{
 "cells": [
  {
   "cell_type": "markdown",
   "metadata": {},
   "source": [
    "# Simple Tidal and Battery Hybrid Plant Example\n",
    "---\n",
    "In this example, we will walk through the process of simulating a hybrid renewable energy system including both tidal energy and battery energy storage."
   ]
  },
  {
   "cell_type": "markdown",
   "metadata": {},
   "source": [
    "### Import Required Modules\n",
    "We start by importing the necessary modules and setting up our working environment."
   ]
  },
  {
   "cell_type": "code",
   "execution_count": 16,
   "metadata": {},
   "outputs": [],
   "source": [
    "from hopp.simulation import HoppInterface"
   ]
  },
  {
   "cell_type": "markdown",
   "metadata": {},
   "source": [
    "### Create the HOPP Model\n",
    "To generate the HOPP Model, instantiate the `HoppInterface` class and supply the required YAML configuration with the technology configuration and site information.\n",
    "\n",
    "For the site information, the tidal resource data **must be pre-loaded** in the format given in the `Tidal_resource_timeseries.csv`.\n",
    "\n",
    "The tidal technology configuration requires the device rating (kw), power curve of tidal energy device as function of stream speeds (kW) and number of devices. Additionally there's a variable called `tidal_resource`, which is required for model instantiation but doesn't impact a timeseries simulation.\n",
    "\n",
    "Note that the tidal model doesn't come with a default financial model. To address this, you must establish the `CustomFinancialModel` from HOPP.\n",
    "\n",
    "The `default_fin_config` contains all of the necessary parameters for the financial calculations.\n",
    "\n",
    "To maintain consistency across technologies, apply the `default_fin_config` to each technology configuration. This ensures that all technologies use the same financial model throughout the HOPP Model."
   ]
  },
  {
   "cell_type": "code",
   "execution_count": 17,
   "metadata": {},
   "outputs": [],
   "source": [
    "hi = HoppInterface(\"./inputs/10-tidal-battery.yaml\")"
   ]
  },
  {
   "cell_type": "markdown",
   "metadata": {},
   "source": [
    "### Add Tidal Cost Model Inputs\n",
    "Add the inputs to run the tidal technology cost model and instantiate `MHKCosts`.\n",
    "\n",
    "Tidal costs are available for the Reference Model 1: Tidal Current Turbine. More information about the reference models and their associated costs can be found in the [Reference Model Project](https://energy.sandia.gov/programs/renewable-energy/water-power/projects/reference-model-project-rmp/)."
   ]
  },
  {
   "cell_type": "code",
   "execution_count": 18,
   "metadata": {},
   "outputs": [],
   "source": [
    "cost_model_inputs = {\n",
    "\t'reference_model_num':1,\n",
    "\t'water_depth': 100,\n",
    "\t'distance_to_shore': 80,\n",
    "\t'number_rows': 2,\n",
    "\t'device_spacing':600,\n",
    "\t'row_spacing': 600,\n",
    "\t'cable_system_overbuild': 20\n",
    "}\n",
    "hi.system.tidal.create_mhk_cost_calculator(cost_model_inputs)"
   ]
  },
  {
   "cell_type": "markdown",
   "metadata": {},
   "source": [
    "### Run the Simulation\n",
    "Simulate the hybrid renewable energy system for a specified number of years (in this case, 25 years)."
   ]
  },
  {
   "cell_type": "code",
   "execution_count": 19,
   "metadata": {},
   "outputs": [],
   "source": [
    "hi.simulate(25)"
   ]
  },
  {
   "cell_type": "markdown",
   "metadata": {},
   "source": [
    "### Retrieve and Display Results\n",
    "Access the simulation results, including annual energies, capacity factors and net present values (NPVs), and print them to the console.\n",
    "\n",
    "You can see that the Annual Energy Production for \"tidal\" is different than \"hybrid\". Part of that difference is due to the battery but also the \"hybrid\" system is limited by the grid interconnection limit, which in this case is less than the rated capacity of the tidal farm (interconnection limit: 22000kW and tidal farm: 22300kW)."
   ]
  },
  {
   "cell_type": "code",
   "execution_count": 20,
   "metadata": {},
   "outputs": [
    {
     "name": "stdout",
     "output_type": "stream",
     "text": [
      "Annual Energy Production\n",
      "{\"tidal\": 60625515.491999194, \"battery\": 62256.91807749245, \"hybrid\": 60446486.28573774}\n",
      "Net Present Value\n",
      "{\"tidal\": -124990852.96205442, \"battery\": -32620759.796329703, \"hybrid\": -157608702.59276733}\n",
      "Capacity Factors\n",
      "{\"tidal\": 31.034623078812785, \"battery\": 0, \"hybrid\": 16.377843736864506}\n"
     ]
    }
   ],
   "source": [
    "hybrid_plant = hi.system\n",
    "\n",
    "aeps = hybrid_plant.annual_energies\n",
    "npvs = hybrid_plant.net_present_values\n",
    "cf = hybrid_plant.capacity_factors\n",
    "\n",
    "print(\"Annual Energy Production\")\n",
    "print(aeps)\n",
    "print(\"Net Present Value\")\n",
    "print(npvs)\n",
    "print(\"Capacity Factors\")\n",
    "print(cf)"
   ]
  }
 ],
 "metadata": {
  "kernelspec": {
   "display_name": "pysam6",
   "language": "python",
   "name": "python3"
  },
  "language_info": {
   "codemirror_mode": {
    "name": "ipython",
    "version": 3
   },
   "file_extension": ".py",
   "mimetype": "text/x-python",
   "name": "python",
   "nbconvert_exporter": "python",
   "pygments_lexer": "ipython3",
   "version": "3.11.11"
  }
 },
 "nbformat": 4,
 "nbformat_minor": 4
}
