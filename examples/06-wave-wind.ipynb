{
 "cells": [
  {
   "cell_type": "markdown",
   "metadata": {},
   "source": [
    "# Simple Wave and Wind Hybrid Plant Example\n",
    "---\n",
    "In this example, we will walk through the process of simulating a hybrid renewable energy system including both wave and wind energy."
   ]
  },
  {
   "cell_type": "markdown",
   "metadata": {},
   "source": [
    "### Import Required Modules\n",
    "We start by importing the necessary modules and setting up our working environment."
   ]
  },
  {
   "cell_type": "code",
   "execution_count": 1,
   "metadata": {},
   "outputs": [
    {
     "name": "stdout",
     "output_type": "stream",
     "text": [
      "/Users/cirmas/workspace/HOPP/examples/log/hybrid_systems_2023-11-22T11.38.15.891658.log\n"
     ]
    }
   ],
   "source": [
    "from hopp.simulation import HoppInterface\n",
    "from hopp.utilities.keys import set_nrel_key_dot_env"
   ]
  },
  {
   "cell_type": "markdown",
   "metadata": {},
   "source": [
    "### Set API Key\n",
    "To access the Wind Toolkit (wind resource) and NSRDB (solar resource) data, we need to set an API key. You can obtain an API key from the [NREL developer website](https://developer.nrel.gov/signup/).\n",
    "\n",
    "To set up the `NREL_API_KEY` required for resource downloads, you can create an Environment Variable called `NREL_API_KEY`. Otherwise, you can keep the key in a new file called \".env\" in the root directory of this project.\n",
    "\n",
    "Create a file \".env\" that contains the single line:\n",
    "`NREL_API_KEY=key`"
   ]
  },
  {
   "cell_type": "code",
   "execution_count": 2,
   "metadata": {},
   "outputs": [],
   "source": [
    "# Set API key using the .env\n",
    "set_nrel_key_dot_env()"
   ]
  },
  {
   "cell_type": "markdown",
   "metadata": {},
   "source": [
    "#### (Optional)\n",
    "\n",
    "This step is if you do not set the API key using a \".env\" file."
   ]
  },
  {
   "cell_type": "code",
   "execution_count": 3,
   "metadata": {},
   "outputs": [],
   "source": [
    "import os\n",
    "from hopp.utilities.keys import set_developer_nrel_gov_key\n",
    "\n",
    "# Set API key manually if not using the .env\n",
    "global NREL_API_KEY\n",
    "NREL_API_KEY = os.getenv(\"NREL_API_KEY\") # Set this key manually here if you are not setting it using the .env\n",
    "set_developer_nrel_gov_key(NREL_API_KEY)  "
   ]
  },
  {
   "cell_type": "markdown",
   "metadata": {},
   "source": [
    "### Create the HOPP Model\n",
    "To generate the HOPP Model, instantiate the `HoppInterface` class and supply the required YAML configuration with the technology configuration and site information.\n",
    "\n",
    "For the site information, the Wind resource data will be downloaded using the API key. The Wave resource data **must be pre-loaded** in the format given in the `Wave_resource_timeseries.csv`.\n",
    "\n",
    "The Wave technology configuration requires the, device rating (kw), wave power matrix and number of devices.\n",
    "\n",
    "Note that the wave model doesn't come with a default financial model. To address this, you must establish the `CustomFinancialModel` from HOPP.\n",
    "\n",
    "The `default_fin_config` contains all of the necessary parameters for the financial calculations.\n",
    "\n",
    "To maintain consistency across technologies, apply the `default_fin_config` to each technology configuration. This ensures that all technologies use the same financial model throughout the HOPP Model."
   ]
  },
  {
   "cell_type": "code",
   "execution_count": 4,
   "metadata": {},
   "outputs": [],
   "source": [
    "hi = HoppInterface(\"./inputs/06-wave-wind.yaml\")"
   ]
  },
  {
   "cell_type": "markdown",
   "metadata": {},
   "source": [
    "### Add Wave Cost Model Inputs\n",
    "Add the inputs to run the wave technology cost model and instantiate `MHKCosts`."
   ]
  },
  {
   "cell_type": "code",
   "execution_count": 5,
   "metadata": {},
   "outputs": [],
   "source": [
    "cost_model_inputs = {\n",
    "\t'reference_model_num':3,\n",
    "\t'water_depth': 100,\n",
    "\t'distance_to_shore': 80,\n",
    "\t'number_rows': 10,\n",
    "\t'device_spacing':600,\n",
    "\t'row_spacing': 600,\n",
    "\t'cable_system_overbuild': 20\n",
    "}\n",
    "hi.system.wave.create_mhk_cost_calculator(cost_model_inputs)"
   ]
  },
  {
   "cell_type": "markdown",
   "metadata": {},
   "source": [
    "### Run the Simulation\n",
    "Simulate the hybrid renewable energy system for a specified number of years (in this case, 25 years)."
   ]
  },
  {
   "cell_type": "code",
   "execution_count": 6,
   "metadata": {},
   "outputs": [],
   "source": [
    "hi.simulate(25)"
   ]
  },
  {
   "cell_type": "markdown",
   "metadata": {},
   "source": [
    "### Retrieve and Display Results\n",
    "Access the simulation results, including annual energies, capacity factors and net present values (NPVs), and print them to the console."
   ]
  },
  {
   "cell_type": "code",
   "execution_count": 7,
   "metadata": {},
   "outputs": [
    {
     "name": "stdout",
     "output_type": "stream",
     "text": [
      "Annual Energy Production\n",
      "{\"wind\": 32539658.835298114, \"wave\": 121325260.0, \"hybrid\": 106567717.3026002}\n",
      "Net Present Value\n",
      "{\"wind\": -14977200.729403043, \"wave\": -407735589.40146995, \"hybrid\": -422077325.4809909}\n",
      "Capacity Factors\n",
      "{\"wind\": 37.14572926403895, \"wave\": 48.426278059839696, \"hybrid\": 45.50385609201568}\n"
     ]
    }
   ],
   "source": [
    "hybrid_plant = hi.system\n",
    "\n",
    "aeps = hybrid_plant.annual_energies\n",
    "npvs = hybrid_plant.net_present_values\n",
    "cf = hybrid_plant.capacity_factors\n",
    "\n",
    "print(\"Annual Energy Production\")\n",
    "print(aeps)\n",
    "print(\"Net Present Value\")\n",
    "print(npvs)\n",
    "print(\"Capacity Factors\")\n",
    "print(cf)"
   ]
  }
 ],
 "metadata": {
  "interpreter": {
   "hash": "c4181dcdfcea4d6481020f2ce48a9cbe5cdfeb7af5e211e5dfd3ac596bfed8bd"
  },
  "kernelspec": {
   "display_name": "hopp",
   "language": "python",
   "name": "hopp"
  },
  "language_info": {
   "codemirror_mode": {
    "name": "ipython",
    "version": 3
   },
   "file_extension": ".py",
   "mimetype": "text/x-python",
   "name": "python",
   "nbconvert_exporter": "python",
   "pygments_lexer": "ipython3",
   "version": "3.8.18"
  }
 },
 "nbformat": 4,
 "nbformat_minor": 4
}
