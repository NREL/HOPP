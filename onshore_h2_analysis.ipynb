{
 "cells": [
  {
   "cell_type": "markdown",
   "metadata": {},
   "source": [
    "# Perform a LCOH analysis for an onshore wind + Hydrogen PEM system"
   ]
  },
  {
   "cell_type": "markdown",
   "metadata": {},
   "source": [
    "### Load necessary modules"
   ]
  },
  {
   "cell_type": "code",
   "execution_count": 17,
   "metadata": {},
   "outputs": [
    {
     "name": "stdout",
     "output_type": "stream",
     "text": [
      "The autoreload extension is already loaded. To reload it, use:\n",
      "  %reload_ext autoreload\n"
     ]
    }
   ],
   "source": [
    "%load_ext autoreload\n",
    "%autoreload 2\n",
    "# %matplotlib notebook\n",
    "import os\n",
    "import sys\n",
    "sys.path.append('')\n",
    "from dotenv import load_dotenv\n",
    "import pandas as pd\n",
    "import json\n",
    "from hopp.sites import SiteInfo\n",
    "from hopp.sites import flatirons_site as sample_site\n",
    "from hopp.keys import set_developer_nrel_gov_key\n",
    "# from plot_reopt_results import plot_reopt_results\n",
    "# from run_reopt import run_reopt\n",
    "from examples.H2_Analysis.hopp_for_h2 import hopp_for_h2\n",
    "from examples.H2_Analysis.run_h2a import run_h2a as run_h2a\n",
    "from examples.H2_Analysis.simple_dispatch import SimpleDispatch\n",
    "import examples.H2_Analysis.run_h2_PEM as run_h2_PEM\n",
    "import numpy as np\n",
    "import numpy_financial as npf\n",
    "from lcoe.lcoe import lcoe as lcoe_calc\n",
    "import matplotlib.pyplot as plt\n",
    "import warnings\n",
    "from pathlib import Path\n",
    "warnings.filterwarnings(\"ignore\")"
   ]
  },
  {
   "cell_type": "markdown",
   "metadata": {},
   "source": [
    "### Set API key"
   ]
  },
  {
   "cell_type": "code",
   "execution_count": 18,
   "metadata": {},
   "outputs": [],
   "source": [
    "load_dotenv()\n",
    "NREL_API_KEY = os.getenv(\"NREL_API_KEY\")\n",
    "set_developer_nrel_gov_key(NREL_API_KEY)  # Set this key manually here if you are not setting it using the .env\n"
   ]
  },
  {
   "cell_type": "markdown",
   "metadata": {},
   "source": [
    "### Create output dictionary"
   ]
  },
  {
   "cell_type": "code",
   "execution_count": 19,
   "metadata": {},
   "outputs": [],
   "source": [
    "def establish_save_output_dict():\n",
    "    \"\"\"\n",
    "    Establishes and returns a 'save_outputs_dict' dict\n",
    "    for saving the relevant analysis variables for each site.\n",
    "    \"\"\"\n",
    "\n",
    "    save_outputs_dict = dict()\n",
    "    save_outputs_dict['Site Name'] = list()\n",
    "    save_outputs_dict['Scenario Choice'] = list()\n",
    "    save_outputs_dict['Site Lat'] = list()\n",
    "    save_outputs_dict['Site Lon'] = list()\n",
    "    save_outputs_dict['ATB Year'] = list()\n",
    "    save_outputs_dict['Resource Year'] = list()\n",
    "    save_outputs_dict['Critical Load Factor'] = list()\n",
    "    save_outputs_dict['kW continuous load'] = list()\n",
    "    save_outputs_dict['Useful Life'] = list()\n",
    "    save_outputs_dict['PTC'] = list()\n",
    "    save_outputs_dict['ITC'] = list()\n",
    "    save_outputs_dict['Discount Rate'] = list()\n",
    "    save_outputs_dict['Debt Equity'] = list()\n",
    "    save_outputs_dict['Hub Height (m)'] = list()\n",
    "    save_outputs_dict['Storage Enabled'] = list()\n",
    "    save_outputs_dict['Wind Cost kW'] = list()\n",
    "    save_outputs_dict['Solar Cost kW'] = list()\n",
    "    save_outputs_dict['Storage Cost kW'] = list()\n",
    "    save_outputs_dict['Storage Cost kWh'] = list()\n",
    "    save_outputs_dict['Storage Hours'] = list()\n",
    "    save_outputs_dict['Wind MW built'] = list()\n",
    "    save_outputs_dict['Solar MW built'] = list()\n",
    "    save_outputs_dict['Storage MW built'] = list()\n",
    "    save_outputs_dict['Storage MWh built'] = list()\n",
    "    save_outputs_dict['Electrolyzer Size'] = list()\n",
    "    save_outputs_dict['Electrolyzer Total System Size'] = list()\n",
    "    save_outputs_dict['Battery Can Grid Charge'] = list()\n",
    "    save_outputs_dict['Grid Connected HOPP'] = list()\n",
    "    save_outputs_dict['Built Interconnection Size'] = list()\n",
    "    save_outputs_dict['Total Installed Cost $(HOPP)'] = list()\n",
    "    save_outputs_dict['Total Yearly Electrical Output'] = list()\n",
    "    save_outputs_dict['LCOE'] = list()\n",
    "    save_outputs_dict['Total Annual H2 production (kg)'] = list()\n",
    "    save_outputs_dict['Gut-Check Cost/kg H2 (non-levelized, includes elec if used)'] = list()\n",
    "    save_outputs_dict['Levelized Cost/kg H2 (lcoe using installed and operation costs)'] = list()\n",
    "    save_outputs_dict['Levelized Cost/kg H2 (CF Method - using annual cashflows per technology)'] = list()\n",
    "    save_outputs_dict['H2A scaled total install cost'] = list()\n",
    "    save_outputs_dict['H2A scaled total install cost per kw'] = list()\n",
    "    save_outputs_dict['HOPP Total Generation'] = list()\n",
    "    save_outputs_dict['Wind Capacity Factor'] = list()\n",
    "    save_outputs_dict['HOPP Energy Shortfall'] = list()\n",
    "    save_outputs_dict['HOPP Curtailment'] = list()\n",
    "    save_outputs_dict['Battery Generation'] = list()\n",
    "    save_outputs_dict['Electricity to Grid'] = list()\n",
    "    \n",
    "    return save_outputs_dict"
   ]
  },
  {
   "cell_type": "markdown",
   "metadata": {},
   "source": [
    "# Step 1: Establish output structure and special inputs"
   ]
  },
  {
   "cell_type": "code",
   "execution_count": 20,
   "metadata": {},
   "outputs": [],
   "source": [
    "# save_all_runs = pd.DataFrame()\n",
    "save_outputs_dict = establish_save_output_dict()\n",
    "year = 2013\n",
    "sample_site['year'] = year\n",
    "useful_life = 30\n",
    "critical_load_factor = 1\n",
    "run_reopt_flag = False\n",
    "custom_powercurve = True\n",
    "storage_used = True\n",
    "battery_can_grid_charge = False\n",
    "grid_connected_hopp = False\n",
    "interconnection_size_mw = 100\n",
    "electrolyzer_size = 100\n",
    "\n",
    "# which plots to show\n",
    "plot_power_production = True\n",
    "plot_battery = True\n",
    "plot_grid = True\n",
    "plot_h2 = True\n",
    "# plot_reopt = True"
   ]
  },
  {
   "cell_type": "markdown",
   "metadata": {},
   "source": [
    "# Step 2: Load scenarios from .csv and enumerate"
   ]
  },
  {
   "cell_type": "code",
   "execution_count": 21,
   "metadata": {},
   "outputs": [
    {
     "name": "stdout",
     "output_type": "stream",
     "text": [
      "/Users/abarker/Desktop/Hybrid Model/Code/HOPP_Private\n"
     ]
    },
    {
     "data": {
      "text/html": [
       "<div>\n",
       "<style scoped>\n",
       "    .dataframe tbody tr th:only-of-type {\n",
       "        vertical-align: middle;\n",
       "    }\n",
       "\n",
       "    .dataframe tbody tr th {\n",
       "        vertical-align: top;\n",
       "    }\n",
       "\n",
       "    .dataframe thead th {\n",
       "        text-align: right;\n",
       "    }\n",
       "</style>\n",
       "<table border=\"1\" class=\"dataframe\">\n",
       "  <thead>\n",
       "    <tr style=\"text-align: right;\">\n",
       "      <th></th>\n",
       "      <th>Scenario Number</th>\n",
       "      <th>Scenario Name</th>\n",
       "      <th>Site Name</th>\n",
       "      <th>Force Plant Size</th>\n",
       "      <th>Force Electrolyzer Cost</th>\n",
       "      <th>Wind Size MW</th>\n",
       "      <th>Solar Size MW</th>\n",
       "      <th>Storage Size MW</th>\n",
       "      <th>Storage Size MWh</th>\n",
       "      <th>Lat</th>\n",
       "      <th>...</th>\n",
       "      <th>Turbine Rating</th>\n",
       "      <th>Tower Height</th>\n",
       "      <th>Rotor Diameter</th>\n",
       "      <th>Wind Cost KW</th>\n",
       "      <th>Solar Cost KW</th>\n",
       "      <th>Storage Cost KW</th>\n",
       "      <th>Storage Cost KWh</th>\n",
       "      <th>Electrolyzer Cost KW</th>\n",
       "      <th>Buy From Grid ($/kWh)</th>\n",
       "      <th>Sell To Grid ($/kWh)</th>\n",
       "    </tr>\n",
       "  </thead>\n",
       "  <tbody>\n",
       "    <tr>\n",
       "      <th>0</th>\n",
       "      <td>1</td>\n",
       "      <td>2030 Conservative</td>\n",
       "      <td>TexasTest</td>\n",
       "      <td>True</td>\n",
       "      <td>True</td>\n",
       "      <td>100</td>\n",
       "      <td>1</td>\n",
       "      <td>1</td>\n",
       "      <td>1</td>\n",
       "      <td>36.103</td>\n",
       "      <td>...</td>\n",
       "      <td>7</td>\n",
       "      <td>110</td>\n",
       "      <td>150</td>\n",
       "      <td>958</td>\n",
       "      <td>598</td>\n",
       "      <td>97</td>\n",
       "      <td>104</td>\n",
       "      <td>100</td>\n",
       "      <td>False</td>\n",
       "      <td>False</td>\n",
       "    </tr>\n",
       "    <tr>\n",
       "      <th>1</th>\n",
       "      <td>2</td>\n",
       "      <td>2030 Moderate</td>\n",
       "      <td>Georgia</td>\n",
       "      <td>True</td>\n",
       "      <td>True</td>\n",
       "      <td>100</td>\n",
       "      <td>1</td>\n",
       "      <td>1</td>\n",
       "      <td>1</td>\n",
       "      <td>33.162</td>\n",
       "      <td>...</td>\n",
       "      <td>7</td>\n",
       "      <td>120</td>\n",
       "      <td>175</td>\n",
       "      <td>910</td>\n",
       "      <td>598</td>\n",
       "      <td>97</td>\n",
       "      <td>104</td>\n",
       "      <td>100</td>\n",
       "      <td>False</td>\n",
       "      <td>False</td>\n",
       "    </tr>\n",
       "    <tr>\n",
       "      <th>2</th>\n",
       "      <td>3</td>\n",
       "      <td>2030 Advanced</td>\n",
       "      <td>Georgia</td>\n",
       "      <td>True</td>\n",
       "      <td>True</td>\n",
       "      <td>100</td>\n",
       "      <td>1</td>\n",
       "      <td>1</td>\n",
       "      <td>1</td>\n",
       "      <td>33.162</td>\n",
       "      <td>...</td>\n",
       "      <td>7</td>\n",
       "      <td>135</td>\n",
       "      <td>200</td>\n",
       "      <td>671</td>\n",
       "      <td>598</td>\n",
       "      <td>97</td>\n",
       "      <td>104</td>\n",
       "      <td>100</td>\n",
       "      <td>False</td>\n",
       "      <td>False</td>\n",
       "    </tr>\n",
       "    <tr>\n",
       "      <th>3</th>\n",
       "      <td>1</td>\n",
       "      <td>2030 Conservative</td>\n",
       "      <td>Georgia</td>\n",
       "      <td>True</td>\n",
       "      <td>True</td>\n",
       "      <td>100</td>\n",
       "      <td>1</td>\n",
       "      <td>1</td>\n",
       "      <td>1</td>\n",
       "      <td>33.162</td>\n",
       "      <td>...</td>\n",
       "      <td>7</td>\n",
       "      <td>110</td>\n",
       "      <td>150</td>\n",
       "      <td>958</td>\n",
       "      <td>598</td>\n",
       "      <td>97</td>\n",
       "      <td>104</td>\n",
       "      <td>100</td>\n",
       "      <td>False</td>\n",
       "      <td>False</td>\n",
       "    </tr>\n",
       "    <tr>\n",
       "      <th>4</th>\n",
       "      <td>2</td>\n",
       "      <td>2030 Moderate</td>\n",
       "      <td>Georgia</td>\n",
       "      <td>True</td>\n",
       "      <td>True</td>\n",
       "      <td>100</td>\n",
       "      <td>1</td>\n",
       "      <td>1</td>\n",
       "      <td>1</td>\n",
       "      <td>33.162</td>\n",
       "      <td>...</td>\n",
       "      <td>7</td>\n",
       "      <td>120</td>\n",
       "      <td>175</td>\n",
       "      <td>910</td>\n",
       "      <td>598</td>\n",
       "      <td>97</td>\n",
       "      <td>104</td>\n",
       "      <td>100</td>\n",
       "      <td>False</td>\n",
       "      <td>False</td>\n",
       "    </tr>\n",
       "    <tr>\n",
       "      <th>5</th>\n",
       "      <td>3</td>\n",
       "      <td>2030 Advanced</td>\n",
       "      <td>Georgia</td>\n",
       "      <td>True</td>\n",
       "      <td>True</td>\n",
       "      <td>100</td>\n",
       "      <td>1</td>\n",
       "      <td>1</td>\n",
       "      <td>1</td>\n",
       "      <td>33.162</td>\n",
       "      <td>...</td>\n",
       "      <td>7</td>\n",
       "      <td>135</td>\n",
       "      <td>200</td>\n",
       "      <td>671</td>\n",
       "      <td>598</td>\n",
       "      <td>97</td>\n",
       "      <td>104</td>\n",
       "      <td>100</td>\n",
       "      <td>False</td>\n",
       "      <td>False</td>\n",
       "    </tr>\n",
       "  </tbody>\n",
       "</table>\n",
       "<p>6 rows × 27 columns</p>\n",
       "</div>"
      ],
      "text/plain": [
       "   Scenario Number      Scenario Name  Site Name  Force Plant Size  \\\n",
       "0                1  2030 Conservative  TexasTest              True   \n",
       "1                2      2030 Moderate    Georgia              True   \n",
       "2                3      2030 Advanced    Georgia              True   \n",
       "3                1  2030 Conservative    Georgia              True   \n",
       "4                2      2030 Moderate    Georgia              True   \n",
       "5                3      2030 Advanced    Georgia              True   \n",
       "\n",
       "   Force Electrolyzer Cost  Wind Size MW  Solar Size MW  Storage Size MW  \\\n",
       "0                     True           100              1                1   \n",
       "1                     True           100              1                1   \n",
       "2                     True           100              1                1   \n",
       "3                     True           100              1                1   \n",
       "4                     True           100              1                1   \n",
       "5                     True           100              1                1   \n",
       "\n",
       "   Storage Size MWh     Lat  ...  Turbine Rating  Tower Height Rotor Diameter  \\\n",
       "0                 1  36.103  ...               7           110            150   \n",
       "1                 1  33.162  ...               7           120            175   \n",
       "2                 1  33.162  ...               7           135            200   \n",
       "3                 1  33.162  ...               7           110            150   \n",
       "4                 1  33.162  ...               7           120            175   \n",
       "5                 1  33.162  ...               7           135            200   \n",
       "\n",
       "  Wind Cost KW Solar Cost KW  Storage Cost KW  Storage Cost KWh  \\\n",
       "0          958           598               97               104   \n",
       "1          910           598               97               104   \n",
       "2          671           598               97               104   \n",
       "3          958           598               97               104   \n",
       "4          910           598               97               104   \n",
       "5          671           598               97               104   \n",
       "\n",
       "   Electrolyzer Cost KW  Buy From Grid ($/kWh)  Sell To Grid ($/kWh)  \n",
       "0                   100                  False                 False  \n",
       "1                   100                  False                 False  \n",
       "2                   100                  False                 False  \n",
       "3                   100                  False                 False  \n",
       "4                   100                  False                 False  \n",
       "5                   100                  False                 False  \n",
       "\n",
       "[6 rows x 27 columns]"
      ]
     },
     "execution_count": 21,
     "metadata": {},
     "output_type": "execute_result"
    }
   ],
   "source": [
    "# scenarios_df = pd.read_csv('H2 Baseline Future Scenarios Test Refactor.csv')\n",
    "# Please note that one scenario where __file__ has advantage is when you are invoking python from directory A but running script in directory B. In that case above as well as most other methods will return A, not B. However for Jupyter notbook, you always get folder for .ipyn file instead of the directory from where you launched jupyter notebook.\n",
    "#parent_path = os.path.abspath(os.path.dirname(__file__))\n",
    "\n",
    "parent_path = os.path.abspath('')\n",
    "print(parent_path)\n",
    "scenarios_df = pd.read_csv(os.path.join(parent_path,'examples/H2_Analysis/default_h2_scenarios.csv'))\n",
    "scenarios_df"
   ]
  },
  {
   "cell_type": "markdown",
   "metadata": {},
   "source": [
    "# Step 3: Assign Scenario Details from file"
   ]
  },
  {
   "cell_type": "code",
   "execution_count": 22,
   "metadata": {},
   "outputs": [],
   "source": [
    "for i, scenario in scenarios_df.iterrows():\n",
    "    kw_continuous = electrolyzer_size * 1000\n",
    "    load = [kw_continuous for x in\n",
    "            range(0, 8760)]  # * (sin(x) + pi) Set desired/required load profile for plant\n",
    "\n",
    "    scenario_choice = scenario['Scenario Name']\n",
    "    site_name = scenario['Site Name']\n",
    "    sample_site['lat'] = scenario['Lat']\n",
    "    sample_site['lon'] = scenario['Long']\n",
    "    lat = scenario['Lat']\n",
    "    lon = scenario['Long']\n",
    "    atb_year = scenario['ATB Year']\n",
    "    ptc_avail = scenario['PTC Available']\n",
    "    itc_avail = scenario['ITC Available']\n",
    "    forced_sizes = scenario['Force Plant Size']\n",
    "    force_electrolyzer_cost = scenario['Force Electrolyzer Cost']\n",
    "    if forced_sizes:\n",
    "        forced_wind_size = scenario['Wind Size MW']\n",
    "        forced_solar_size = scenario['Solar Size MW']\n",
    "        forced_storage_size_mw = scenario['Storage Size MW']\n",
    "        forced_storage_size_mwh = scenario['Storage Size MWh']\n",
    "    else:\n",
    "        print(\"Using ReOPT for sizing. REopt will be turned on and may not find a solution\")\n",
    "        run_reopt_flag = True\n",
    "\n",
    "    if force_electrolyzer_cost:\n",
    "        forced_electrolyzer_cost = scenario['Electrolyzer Cost KW']\n",
    "\n",
    "    tower_height = scenario['Tower Height']\n",
    "    rotor_diameter = scenario['Rotor Diameter']\n",
    "    turbine_rating = scenario['Turbine Rating']\n",
    "    wind_cost_kw = scenario['Wind Cost KW']\n",
    "    custom_powercurve_path = scenario['Powercurve File']\n",
    "    solar_cost_kw = scenario['Solar Cost KW']\n",
    "    storage_cost_kw = scenario['Storage Cost KW']\n",
    "    storage_cost_kwh = scenario['Storage Cost KWh']\n",
    "    debt_equity_split = scenario['Debt Equity']\n",
    "\n",
    "    buy_price = scenario['Buy From Grid ($/kWh)']\n",
    "    sell_price = scenario['Sell To Grid ($/kWh)']\n",
    "\n",
    "    #Todo: Add useful life to .csv scenario input instead\n",
    "    scenario['Useful Life'] = useful_life\n",
    "\n",
    "    site = SiteInfo(sample_site, hub_height=tower_height)"
   ]
  },
  {
   "cell_type": "markdown",
   "metadata": {},
   "source": [
    "# Step 4: Set up HOPP run"
   ]
  },
  {
   "cell_type": "code",
   "execution_count": 23,
   "metadata": {},
   "outputs": [
    {
     "name": "stdout",
     "output_type": "stream",
     "text": [
      "['test_BatteryStateful.py', 'tools', 'HOPP.egg-info', '.DS_Store', 'workspace.code-workspace', 'LICENSE', 'requirements.txt', '.pytest_cache', 'dist', 'onshore_h2_analysis.ipynb', 'tests', '__init__.py', '__pycache__', 'docs', '.readthedocs.yml', 'osw_h2_analysis.ipynb', 'README.md', 'RELEASE.md', 'setup.py', 'requirements-dev.txt', '.gitignore', '.env', 'examples', '.github', 'log', '.ipynb_checkpoints', 'resource_files', 'build', '.git', '.vscode', 'conda_build.sh', 'conda.recipe', 'hybrid', 'test_clustering.py', '.idea']\n"
     ]
    }
   ],
   "source": [
    "if forced_sizes:\n",
    "    solar_size_mw = forced_solar_size\n",
    "    wind_size_mw = forced_wind_size\n",
    "    storage_size_mw = forced_storage_size_mw\n",
    "    storage_size_mwh = forced_storage_size_mwh\n",
    "    storage_hours = 0\n",
    "\n",
    "\n",
    "technologies = {'pv':\n",
    "                    {'system_capacity_kw': solar_size_mw * 1000},\n",
    "                'wind':\n",
    "                    {'num_turbines': np.floor(scenario['Wind Size MW'] / scenario['Turbine Rating']),\n",
    "                        'turbine_rating_kw': scenario['Turbine Rating']*1000,\n",
    "                        'hub_height': scenario['Tower Height'],\n",
    "                        'rotor_diameter': scenario['Rotor Diameter']},\n",
    "                'battery': {\n",
    "                    'system_capacity_kwh': storage_size_mwh * 1000,\n",
    "                    'system_capacity_kw': storage_size_mw * 1000\n",
    "                    }\n",
    "                }\n",
    "\n",
    "hybrid_plant, combined_pv_wind_power_production_hopp, combined_pv_wind_curtailment_hopp,\\\n",
    "energy_shortfall_hopp, annual_energies, wind_plus_solar_npv, npvs, lcoe =  \\\n",
    "    hopp_for_h2(site, scenario, technologies,\n",
    "                wind_size_mw, solar_size_mw, storage_size_mw, storage_size_mwh, storage_hours,\n",
    "    wind_cost_kw, solar_cost_kw, storage_cost_kw, storage_cost_kwh,\n",
    "    kw_continuous, load,\n",
    "    custom_powercurve,\n",
    "    electrolyzer_size, grid_connected_hopp=True)\n",
    "\n",
    "wind_installed_cost = hybrid_plant.wind.total_installed_cost\n",
    "solar_installed_cost = hybrid_plant.pv.total_installed_cost\n",
    "hybrid_installed_cost = hybrid_plant.grid.total_installed_cost"
   ]
  },
  {
   "cell_type": "markdown",
   "metadata": {},
   "source": [
    "### Plot HOPP Results"
   ]
  },
  {
   "cell_type": "code",
   "execution_count": 24,
   "metadata": {},
   "outputs": [],
   "source": [
    "if plot_power_production:\n",
    "    plt.figure(figsize=(4,4))\n",
    "    plt.title(\"HOPP power production\")\n",
    "    plt.plot(combined_pv_wind_power_production_hopp[200:300],label=\"wind + pv\")\n",
    "    plt.plot(energy_shortfall_hopp[200:300],label=\"shortfall\")\n",
    "    plt.plot(combined_pv_wind_curtailment_hopp[200:300],label=\"curtailment\")\n",
    "    plt.plot(load[200:300],label=\"electrolyzer rating\")\n",
    "    plt.xlabel(\"time (hour)\")\n",
    "    plt.ylabel(\"power production\")\n",
    "    # plt.ylim(0,250000)\n",
    "    plt.legend()\n",
    "    plt.tight_layout()\n",
    "    plt.show()"
   ]
  },
  {
   "cell_type": "markdown",
   "metadata": {},
   "source": [
    "# Step 5: Run Simple Dispatch Model\n"
   ]
  },
  {
   "cell_type": "code",
   "execution_count": 9,
   "metadata": {},
   "outputs": [
    {
     "data": {
      "image/png": "[encoded data removed]",
      "text/plain": [
       "<Figure size 504x288 with 2 Axes>"
      ]
     },
     "metadata": {
      "needs_background": "light"
     },
     "output_type": "display_data"
    },
    {
     "data": {
      "image/png": "[encoded data removed]",
      "text/plain": [
       "<Figure size 432x288 with 1 Axes>"
      ]
     },
     "metadata": {
      "needs_background": "light"
     },
     "output_type": "display_data"
    }
   ],
   "source": [
    "bat_model = SimpleDispatch()\n",
    "bat_model.Nt = len(energy_shortfall_hopp)\n",
    "bat_model.curtailment = combined_pv_wind_curtailment_hopp\n",
    "bat_model.shortfall = energy_shortfall_hopp\n",
    "\n",
    "bat_model.battery_storage = storage_size_mwh * 1000\n",
    "bat_model.charge_rate = storage_size_mw * 1000\n",
    "bat_model.discharge_rate = storage_size_mw * 1000\n",
    "\n",
    "battery_used, excess_energy, battery_SOC = bat_model.run()\n",
    "combined_pv_wind_storage_power_production_hopp = combined_pv_wind_power_production_hopp + battery_used\n",
    "\n",
    "if plot_battery:\n",
    "    plt.figure(figsize=(7,4))\n",
    "    plt.subplot(121)\n",
    "    plt.plot(combined_pv_wind_curtailment_hopp[200:300],label=\"curtailment\")\n",
    "    plt.plot(energy_shortfall_hopp[200:300],label=\"shortfall\")\n",
    "    plt.plot(battery_SOC[200:300],label=\"state of charge\")\n",
    "    # plt.ylim(0,350000)\n",
    "    # plt.plot(excess_energy[200:300],label=\"excess\")\n",
    "    plt.plot(battery_used[200:300],\"--\",label=\"battery used\")\n",
    "    plt.legend()\n",
    "\n",
    "    plt.subplot(122)\n",
    "    plt.plot(combined_pv_wind_storage_power_production_hopp[200:300],label=\"wind+pv+storage\")\n",
    "    plt.plot(combined_pv_wind_power_production_hopp[200:300],\"--\",label=\"wind+pv\")\n",
    "    plt.plot(load[200:300],\"--\",label=\"electrolyzer rating\")\n",
    "    # plt.ylim(0,225000)\n",
    "\n",
    "    plt.legend()\n",
    "    plt.suptitle(\"battery dispatch\")\n",
    "    plt.tight_layout()\n",
    "\n",
    "    plt.show()\n",
    "\n",
    "if plot_grid:\n",
    "    plt.plot(combined_pv_wind_storage_power_production_hopp[200:300],label=\"before buy from grid\")\n",
    "\n",
    "sell_price = 0.01\n",
    "buy_price = 0.05\n",
    "\n",
    "# sell_price = False\n",
    "# buy_price = False\n",
    "\n",
    "if sell_price:\n",
    "    profit_from_selling_to_grid = np.sum(excess_energy)*sell_price\n",
    "else:\n",
    "    profit_from_selling_to_grid = 0.0\n",
    "\n",
    "# buy_price = False # if you want to force no buy from grid\n",
    "if buy_price:\n",
    "    cost_to_buy_from_grid = 0.0\n",
    "\n",
    "    for i in range(len(combined_pv_wind_storage_power_production_hopp)):\n",
    "        if combined_pv_wind_storage_power_production_hopp[i] < kw_continuous:\n",
    "            cost_to_buy_from_grid += (kw_continuous-combined_pv_wind_storage_power_production_hopp[i])*buy_price\n",
    "            combined_pv_wind_storage_power_production_hopp[i] = kw_continuous\n",
    "else:\n",
    "    cost_to_buy_from_grid = 0.0\n",
    "\n",
    "energy_to_electrolyzer = [x if x < kw_continuous else kw_continuous for x in combined_pv_wind_storage_power_production_hopp]\n",
    "\n"
   ]
  },
  {
   "cell_type": "markdown",
   "metadata": {},
   "source": [
    "### Plot Dispatch Results"
   ]
  },
  {
   "cell_type": "code",
   "execution_count": 10,
   "metadata": {
    "scrolled": true
   },
   "outputs": [
    {
     "data": {
      "image/png": "[encoded data removed]",
      "text/plain": [
       "<Figure size 432x288 with 1 Axes>"
      ]
     },
     "metadata": {
      "needs_background": "light"
     },
     "output_type": "display_data"
    }
   ],
   "source": [
    "\n",
    "if plot_grid:\n",
    "    plt.plot(combined_pv_wind_storage_power_production_hopp[200:300],\"--\",label=\"after buy from grid\")\n",
    "    plt.plot(energy_to_electrolyzer[200:300],\"--\",label=\"energy to electrolyzer\")\n",
    "    plt.legend()\n",
    "    plt.show()\n",
    "\n"
   ]
  },
  {
   "cell_type": "markdown",
   "metadata": {},
   "source": [
    "# Step 6: Run the Python H2A model"
   ]
  },
  {
   "cell_type": "code",
   "execution_count": 11,
   "metadata": {},
   "outputs": [],
   "source": [
    "#TODO: Refactor H2A model call\n",
    "# Should take as input (electrolyzer size, cost, electrical timeseries, total system electrical usage (kwh/kg),\n",
    "# Should give as ouptut (h2 costs by net cap cost, levelized, total_unit_cost of hydrogen etc)   )\n",
    "\n",
    "# electrical_generation_timeseries = combined_pv_wind_storage_power_production_hopp\n",
    "electrical_generation_timeseries = np.zeros_like(energy_to_electrolyzer)\n",
    "electrical_generation_timeseries[:] = energy_to_electrolyzer[:]\n",
    "\n",
    "# Parangat model\n",
    "adjusted_installed_cost = hybrid_plant.grid._financial_model.Outputs.adjusted_installed_cost\n",
    "#NB: adjusted_installed_cost does NOT include the electrolyzer cost\n",
    "useful_life = scenario['Useful Life']\n",
    "net_capital_costs = 0\n",
    "\n",
    "# intalled costs:\n",
    "# hybrid_plant.grid._financial_model.costs\n",
    "\n",
    "# system_rating = electrolyzer_size\n",
    "system_rating = wind_size_mw + solar_size_mw\n",
    "H2_Results, H2A_Results = run_h2_PEM.run_h2_PEM(electrical_generation_timeseries,electrolyzer_size,\n",
    "                kw_continuous,forced_electrolyzer_cost,lcoe,adjusted_installed_cost,useful_life,\n",
    "                net_capital_costs)\n",
    "\n",
    "# TEMPORARY CORRECTION FOR PEM EFFICIENCY.\n",
    "# # Convert H2 production from ~72.55kWh eff to 55.5kWh/kg\n",
    "H2_Results['hydrogen_annual_output'] = H2_Results['hydrogen_annual_output'] * 72.55/55.5"
   ]
  },
  {
   "cell_type": "markdown",
   "metadata": {},
   "source": [
    "### Plot H2 Results"
   ]
  },
  {
   "cell_type": "code",
   "execution_count": 12,
   "metadata": {},
   "outputs": [
    {
     "data": {
      "image/png": "[encoded data removed]",
      "text/plain": [
       "<Figure size 432x216 with 2 Axes>"
      ]
     },
     "metadata": {
      "needs_background": "light"
     },
     "output_type": "display_data"
    }
   ],
   "source": [
    "if plot_h2:\n",
    "    hydrogen_hourly_production = H2_Results['hydrogen_hourly_production']\n",
    "    plt.figure(figsize=(6,3))\n",
    "\n",
    "    plt.subplot(121)\n",
    "    plt.plot(electrical_generation_timeseries[200:300])\n",
    "    plt.ylim(0,max(electrical_generation_timeseries[200:300])*1.2)\n",
    "    plt.plot(load[200:300],label=\"electrolyzer rating\")\n",
    "    plt.title(\"energy to electrolyzer\")\n",
    "\n",
    "    plt.subplot(122)\n",
    "    plt.plot(hydrogen_hourly_production[200:300])\n",
    "    plt.ylim(0,max(hydrogen_hourly_production[200:300])*1.2)\n",
    "    plt.title(\"hydrogen production\")\n",
    "\n",
    "    plt.tight_layout()\n",
    "    plt.show()"
   ]
  },
  {
   "cell_type": "markdown",
   "metadata": {},
   "source": [
    "# Step 6.5: Intermediate financial calculation"
   ]
  },
  {
   "cell_type": "code",
   "execution_count": 13,
   "metadata": {},
   "outputs": [],
   "source": [
    "total_elec_production = np.sum(electrical_generation_timeseries) #REMOVE\n",
    "total_hopp_installed_cost = hybrid_plant.grid._financial_model.SystemCosts.total_installed_cost\n",
    "total_electrolyzer_cost = H2A_Results['scaled_total_installed_cost']\n",
    "total_system_installed_cost = total_hopp_installed_cost + total_electrolyzer_cost\n",
    "annual_operating_cost_hopp = (wind_size_mw * 1000 * 42) + (solar_size_mw * 1000 * 13)\n",
    "annual_operating_cost_h2 = H2A_Results['Fixed O&M'] * H2_Results['hydrogen_annual_output']\n",
    "total_annual_operating_costs = annual_operating_cost_hopp + annual_operating_cost_h2 + cost_to_buy_from_grid - profit_from_selling_to_grid\n",
    "# h_lcoe_no_op_cost = lcoe_calc((H2_Results['hydrogen_annual_output']), total_system_installed_cost,\n",
    "#                    0, 0.07, useful_life)\n",
    "\n",
    "h_lcoe = lcoe_calc((H2_Results['hydrogen_annual_output']), total_system_installed_cost,\n",
    "                    total_annual_operating_costs, 0.07, useful_life)\n",
    "\n",
    "# Cashflow Financial Calculation (Not sure that this includes electrical prices)\n",
    "discount_rate = scenario['Discount Rate']\n",
    "cf_wind_annuals = hybrid_plant.wind._financial_model.Outputs.cf_annual_costs\n",
    "cf_solar_annuals = hybrid_plant.pv._financial_model.Outputs.cf_annual_costs\n",
    "cf_h2_annuals = H2A_Results['expenses_annual_cashflow'] # This might be unreliable. \n",
    "cf_df = pd.DataFrame([cf_wind_annuals, cf_solar_annuals, cf_h2_annuals[:len(cf_wind_annuals)]],['Wind', 'Solar', 'H2'])\n",
    "# parent_path = os.path.abspath('')\n",
    "# print(parent_path)\n",
    "results_dir = parent_path + '/examples/H2_Analysis/results/'\n",
    "cf_df.to_csv(os.path.join(results_dir, \"Annual Cashflows_{}_{}_{}_discount_{}.csv\".format(site_name, scenario_choice, atb_year, discount_rate)))\n",
    "\n",
    "#NPVs of wind, solar, H2\n",
    "\n",
    "npv_wind_costs = npf.npv(discount_rate, cf_wind_annuals)\n",
    "npv_solar_costs = npf.npv(discount_rate, cf_solar_annuals)\n",
    "npv_h2_costs = npf.npv(discount_rate, cf_h2_annuals)\n",
    "npv_total_costs = npv_wind_costs+npv_solar_costs+npv_h2_costs\n",
    "LCOH_cf_method = -npv_total_costs / (H2_Results['hydrogen_annual_output'] * useful_life)\n",
    "financial_summary_df = pd.DataFrame([scenario['Useful Life'], scenario['Wind Cost KW'], scenario['Solar Cost KW'], forced_electrolyzer_cost,\n",
    "                                        scenario['Debt Equity'], atb_year, ptc_avail, itc_avail,\n",
    "                                        discount_rate, npv_wind_costs, npv_solar_costs, npv_h2_costs, LCOH_cf_method],\n",
    "                                    ['Useful Life', 'Wind Cost KW', 'Solar Cost KW', 'Electrolyzer Cost KW', 'Debt Equity',\n",
    "                                        'ATB Year', 'PTC available', 'ITC available', 'Discount Rate', 'NPV Wind Expenses', 'NPV Solar Expenses', 'NPV H2 Expenses', 'LCOH cf method'])\n",
    "financial_summary_df.to_csv(os.path.join(results_dir, 'Financial Summary.csv'))\n",
    "\n",
    "# Gut Check H2 calculation (non-levelized)\n",
    "total_installed_and_operational_lifetime_cost = total_system_installed_cost + (30 * total_annual_operating_costs)\n",
    "lifetime_h2_production = 30 * H2_Results['hydrogen_annual_output']\n",
    "gut_check_h2_cost_kg = total_installed_and_operational_lifetime_cost / lifetime_h2_production"
   ]
  },
  {
   "cell_type": "markdown",
   "metadata": {},
   "source": [
    "# Step 7: Print  Results"
   ]
  },
  {
   "cell_type": "code",
   "execution_count": 14,
   "metadata": {},
   "outputs": [
    {
     "name": "stdout",
     "output_type": "stream",
     "text": [
      "Total Lifetime H2(kg) produced: 463727889.5742998\n",
      "Gut-check H2 cost/kg: 2.841668304699136\n",
      "h_lcoe:  3.1581532408856354\n",
      "LCOH CF Method (doesn't include elec) 0.9366711973953259\n"
     ]
    }
   ],
   "source": [
    "print_results = False\n",
    "print_h2_results = True\n",
    "\n",
    "if print_results:\n",
    "    # ------------------------- #\n",
    "    #TODO: Tidy up these print statements\n",
    "    print(\"Future Scenario: {}\".format(scenario['Scenario Name']))\n",
    "    print(\"Wind Cost per KW: {}\".format(scenario['Wind Cost KW']))\n",
    "    print(\"PV Cost per KW: {}\".format(scenario['Solar Cost KW']))\n",
    "    print(\"Storage Cost per KW: {}\".format(scenario['Storage Cost kW']))\n",
    "    print(\"Storage Cost per KWh: {}\".format(scenario['Storage Cost kWh']))\n",
    "    print(\"Wind Size built: {}\".format(wind_size_mw))\n",
    "    print(\"PV Size built: {}\".format(solar_size_mw))\n",
    "    print(\"Storage Size built: {}\".format(storage_size_mw))\n",
    "    print(\"Storage Size built: {}\".format(storage_size_mwh))\n",
    "    print(\"Levelized cost of Electricity (HOPP): {}\".format(lcoe))\n",
    "    print(\"Total Yearly Electrical Output: {}\".format(total_elec_production))\n",
    "    print(\"Total Yearly Hydrogen Production: {}\".format(H2_Results['hydrogen_annual_output']))\n",
    "    print(\"Levelized Cost H2/kg (new method - no operational costs)\".format(h_lcoe_no_op_cost))\n",
    "    print(\"Capacity Factor of Electrolyzer: {}\".format(H2_Results['cap_factor']))\n",
    "\n",
    "if print_h2_results:\n",
    "    print('Total Lifetime H2(kg) produced: {}'.format(lifetime_h2_production))\n",
    "    print(\"Gut-check H2 cost/kg: {}\".format(gut_check_h2_cost_kg))\n",
    "    print(\"h_lcoe: \", h_lcoe)\n",
    "    print(\"LCOH CF Method (doesn't include elec)\", LCOH_cf_method)\n",
    "    # print(\"Levelized cost of H2 (electricity feedstock) (HOPP): {}\".format(\n",
    "    #     H2_Results['feedstock_cost_h2_levelized_hopp']))\n",
    "    # print(\"Levelized cost of H2 (excl. electricity) (H2A): {}\".format(H2A_Results['Total Hydrogen Cost ($/kgH2)']))\n",
    "    # print(\"Total unit cost of H2 ($/kg) : {}\".format(H2_Results['total_unit_cost_of_hydrogen']))\n",
    "    # print(\"kg H2 cost from net cap cost/lifetime h2 production (HOPP): {}\".format(\n",
    "    #     H2_Results['feedstock_cost_h2_via_net_cap_cost_lifetime_h2_hopp']))"
   ]
  },
  {
   "cell_type": "markdown",
   "metadata": {},
   "source": [
    "# Step 8: Plot Results"
   ]
  },
  {
   "cell_type": "code",
   "execution_count": 15,
   "metadata": {},
   "outputs": [
    {
     "name": "stdout",
     "output_type": "stream",
     "text": [
      "Using matplotlib backend: <object object at 0x7fe8c1b63bc0>\n"
     ]
    }
   ],
   "source": [
    "matplotlib"
   ]
  },
  {
   "cell_type": "markdown",
   "metadata": {},
   "source": [
    "# Step 9: Save Results"
   ]
  },
  {
   "cell_type": "code",
   "execution_count": 16,
   "metadata": {},
   "outputs": [],
   "source": [
    "# Step 9: Plot HOPP Production, Curtailment, and Hydrogen Production Profiles\n",
    "# ------------------------- #\n",
    "#TODO: Place in function\n",
    "\n",
    "save_outputs_dict['Site Name'].append(site_name)\n",
    "save_outputs_dict['Scenario Choice'].append(scenario_choice)\n",
    "save_outputs_dict['Site Lat'].append(lat)\n",
    "save_outputs_dict['Site Lon'].append(lon)\n",
    "save_outputs_dict['ATB Year'].append(atb_year)\n",
    "save_outputs_dict['Resource Year'].append(year)\n",
    "save_outputs_dict['Critical Load Factor'].append(critical_load_factor)\n",
    "save_outputs_dict['kW continuous load'].append(kw_continuous)\n",
    "save_outputs_dict['Useful Life'].append(useful_life)\n",
    "save_outputs_dict['PTC'].append(ptc_avail)\n",
    "save_outputs_dict['ITC'].append(itc_avail)\n",
    "save_outputs_dict['Discount Rate'].append(discount_rate)\n",
    "save_outputs_dict['Debt Equity'].append(debt_equity_split)\n",
    "save_outputs_dict['Hub Height (m)'].append(tower_height)\n",
    "save_outputs_dict['Storage Enabled'].append(storage_used)\n",
    "save_outputs_dict['Wind Cost kW'].append(wind_cost_kw)\n",
    "save_outputs_dict['Solar Cost kW'].append(solar_cost_kw)\n",
    "save_outputs_dict['Storage Cost kW'].append(storage_cost_kw)\n",
    "save_outputs_dict['Storage Cost kWh'].append(storage_cost_kwh)\n",
    "save_outputs_dict['Storage Hours'].append(storage_hours)\n",
    "save_outputs_dict['Wind MW built'].append(wind_size_mw)\n",
    "save_outputs_dict['Solar MW built'].append(solar_size_mw)\n",
    "save_outputs_dict['Storage MW built'].append(storage_size_mw)\n",
    "save_outputs_dict['Storage MWh built'].append(storage_size_mwh)\n",
    "save_outputs_dict['Battery Can Grid Charge'].append(battery_can_grid_charge)\n",
    "save_outputs_dict['Built Interconnection Size'].append(hybrid_plant.interconnect_kw)\n",
    "save_outputs_dict['Total Installed Cost $(HOPP)'].append(total_hopp_installed_cost)\n",
    "save_outputs_dict['Total Yearly Electrical Output'].append(total_elec_production)\n",
    "save_outputs_dict['LCOE'].append(lcoe)\n",
    "save_outputs_dict['Total Annual H2 production (kg)'].append(H2_Results['hydrogen_annual_output'])\n",
    "save_outputs_dict['Gut-Check Cost/kg H2 (non-levelized, includes elec if used)'].append(gut_check_h2_cost_kg)\n",
    "save_outputs_dict['Levelized Cost/kg H2 (lcoe using installed and operation costs)'].append(h_lcoe)\n",
    "save_outputs_dict['Levelized Cost/kg H2 (CF Method - using annual cashflows per technology)'].append(LCOH_cf_method)\n",
    "save_outputs_dict['Grid Connected HOPP'].append(grid_connected_hopp)\n",
    "save_outputs_dict['HOPP Total Generation'].append(np.sum(hybrid_plant.grid.generation_profile[0:8759]))\n",
    "save_outputs_dict['Wind Capacity Factor'].append(hybrid_plant.wind._system_model.Outputs.capacity_factor)\n",
    "save_outputs_dict['HOPP Energy Shortfall'].append(np.sum(energy_shortfall_hopp))\n",
    "save_outputs_dict['HOPP Curtailment'].append(np.sum(combined_pv_wind_curtailment_hopp))\n",
    "save_outputs_dict['Battery Generation'].append(np.sum(battery_used))\n",
    "save_outputs_dict['Electricity to Grid'].append(np.sum(excess_energy))\n",
    "save_outputs_dict['Electrolyzer Size'].append(H2A_Results['electrolyzer_size'])\n",
    "save_outputs_dict['Electrolyzer Total System Size'].append(H2A_Results['total_plant_size'])\n",
    "save_outputs_dict['H2A scaled total install cost'].append(H2A_Results['scaled_total_installed_cost'])\n",
    "save_outputs_dict['H2A scaled total install cost per kw'].append(H2A_Results['scaled_total_installed_cost_kw'])\n",
    "\n",
    "\n",
    "# save_all_runs = save_all_runs.append(save_outputs_dict, sort=False)\n",
    "# Create dataframe from outputs and save\n",
    "save_outputs = True\n",
    "if save_outputs:\n",
    "    save_outputs_dict_df = pd.DataFrame(save_outputs_dict)\n",
    "    save_outputs_dict_df.to_csv(os.path.join(results_dir, \"H2_Analysis_{}.csv\".format('Main')))\n",
    "    "
   ]
  }
 ],
 "metadata": {
  "interpreter": {
   "hash": "e2a712f955cbd808e3cf6d421697ccc442b7e96bad96188fe3720e88187ee567"
  },
  "kernelspec": {
   "display_name": "Python 3 (ipykernel)",
   "language": "python",
   "name": "python3"
  },
  "language_info": {
   "codemirror_mode": {
    "name": "ipython",
    "version": 3
   },
   "file_extension": ".py",
   "mimetype": "text/x-python",
   "name": "python",
   "nbconvert_exporter": "python",
   "pygments_lexer": "ipython3",
   "version": "3.8.12"
  }
 },
 "nbformat": 4,
 "nbformat_minor": 2
}
