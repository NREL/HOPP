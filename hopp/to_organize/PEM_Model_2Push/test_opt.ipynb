{
 "cells": [
  {
   "cell_type": "code",
   "execution_count": 9,
   "metadata": {},
   "outputs": [
    {
     "name": "stdout",
     "output_type": "stream",
     "text": [
      "The autoreload extension is already loaded. To reload it, use:\n",
      "  %reload_ext autoreload\n"
     ]
    }
   ],
   "source": [
    "%load_ext autoreload\n",
    "%autoreload 2\n",
    "\n",
    "from pyomo.environ import *\n",
    "import random\n",
    "import numpy as np\n",
    "import matplotlib.pyplot as plt\n",
    "import pandas as pd\n",
    "from optimization_utils_linear import optimize\n",
    "from run_PEM_master import run_PEM_clusters\n",
    "import time"
   ]
  },
  {
   "cell_type": "code",
   "execution_count": 29,
   "metadata": {},
   "outputs": [
    {
     "name": "stdout",
     "output_type": "stream",
     "text": [
      "Took 1.021 sec to run the create clusters\n",
      "Optimizing 20 stacks tarting 0hr/398hr\n",
      "time to solve 0.8617440000000016\n",
      "Optimizing 20 stacks tarting 219hr/398hr\n",
      "time to solve 0.5715739999999983\n",
      "Took 0.075 sec to run the RUN function\n"
     ]
    }
   ],
   "source": [
    "system_size_mw = 1000\n",
    "num_clusters = 20\n",
    "cluster_cap_mw = system_size_mw / num_clusters\n",
    "stack_rating_kw = 1000\n",
    "cluster_min_power_kw = 0.1 * stack_rating_kw * cluster_cap_mw\n",
    "num_steps = 200\n",
    "power_rampup = np.arange(\n",
    "    cluster_min_power_kw, system_size_mw * stack_rating_kw, cluster_min_power_kw\n",
    ")\n",
    "\n",
    "plant_life = 30\n",
    "deg_penalty = True\n",
    "user_defined_electrolyzer_EOL_eff_drop = False\n",
    "EOL_eff_drop = 13\n",
    "user_defined_electrolyzer_BOL_kWh_per_kg = False\n",
    "BOL_kWh_per_kg = []\n",
    "electrolyzer_model_parameters = {\n",
    "    \"Modify BOL Eff\": user_defined_electrolyzer_BOL_kWh_per_kg,\n",
    "    \"BOL Eff [kWh/kg-H2]\": BOL_kWh_per_kg,\n",
    "    \"Modify EOL Degradation Value\": user_defined_electrolyzer_EOL_eff_drop,\n",
    "    \"EOL Rated Efficiency Drop\": EOL_eff_drop,\n",
    "}\n",
    "# power_rampup = np.linspace(cluster_min_power_kw,system_size_mw*1000,num_steps)\n",
    "power_rampdown = np.flip(power_rampup)\n",
    "power_in = np.concatenate((power_rampup, power_rampdown))\n",
    "pem = run_PEM_clusters(\n",
    "    power_in,\n",
    "    system_size_mw,\n",
    "    num_clusters,\n",
    "    plant_life,\n",
    "    electrolyzer_model_parameters,\n",
    "    deg_penalty,\n",
    ")\n",
    "\n",
    "h2_ts, h2_tot = pem.run(optimize = True)"
   ]
  },
  {
   "cell_type": "code",
   "execution_count": 7,
   "metadata": {},
   "outputs": [
    {
     "data": {
      "text/plain": [
       "9.125"
      ]
     },
     "execution_count": 7,
     "metadata": {},
     "output_type": "execute_result"
    }
   ],
   "source": [
    "219/24"
   ]
  },
  {
   "cell_type": "code",
   "execution_count": null,
   "metadata": {},
   "outputs": [],
   "source": []
  },
  {
   "cell_type": "code",
   "execution_count": null,
   "metadata": {},
   "outputs": [],
   "source": []
  }
 ],
 "metadata": {
  "kernelspec": {
   "display_name": "Python 3.9.2 ('aibias')",
   "language": "python",
   "name": "python3"
  },
  "language_info": {
   "codemirror_mode": {
    "name": "ipython",
    "version": 3
   },
   "file_extension": ".py",
   "mimetype": "text/x-python",
   "name": "python",
   "nbconvert_exporter": "python",
   "pygments_lexer": "ipython3",
   "version": "3.9.2"
  },
  "orig_nbformat": 4,
  "vscode": {
   "interpreter": {
    "hash": "006fa253eb2b24f25ab550317f005ab784f102b1e9b70f76ded10bb7ec2196b2"
   }
  }
 },
 "nbformat": 4,
 "nbformat_minor": 2
}
