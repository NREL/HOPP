{
 "cells": [
  {
   "cell_type": "markdown",
   "metadata": {},
   "source": [
    "# Simple Wind and Solar Hybrid Plant using API Key Example\n",
    "---\n",
    "In this example, we will use the NREL API key to download wind and solar resource data at a given location and simulate a hybrid system."
   ]
  },
  {
   "cell_type": "markdown",
   "metadata": {},
   "source": [
    "### Import Required Modules\n",
    "We start by importing the necessary modules and setting up our working environment."
   ]
  },
  {
   "cell_type": "code",
   "execution_count": 1,
   "metadata": {},
   "outputs": [
    {
     "name": "stdout",
     "output_type": "stream",
     "text": [
      "/Users/cirmas/workspace/HOPP/examples/log/hybrid_systems_2023-11-22T11.23.26.584785.log\n"
     ]
    }
   ],
   "source": [
    "from hopp.utilities.keys import set_nrel_key_dot_env\n",
    "from hopp.simulation import HoppInterface"
   ]
  },
  {
   "cell_type": "markdown",
   "metadata": {},
   "source": [
    "### Set API Key\n",
    "To access the Wind Toolkit (wind resource) and NSRDB (solar resource) data, we need to set an API key. You can obtain an API key from the [NREL developer website](https://developer.nrel.gov/signup/).\n",
    "\n",
    "To set up the `NREL_API_KEY` required for resource downloads, you can create an Environment Variable called `NREL_API_KEY`. Otherwise, you can keep the key in a new file called \".env\" in the root directory of this project.\n",
    "\n",
    "Create a file \".env\" that contains the single line:\n",
    "`NREL_API_KEY=key`"
   ]
  },
  {
   "cell_type": "code",
   "execution_count": 2,
   "metadata": {},
   "outputs": [],
   "source": [
    "# Set API key using the .env\n",
    "set_nrel_key_dot_env()"
   ]
  },
  {
   "cell_type": "markdown",
   "metadata": {},
   "source": [
    "#### (Optional)\n",
    "\n",
    "This step is if you do not set the API key using a \".env\" file."
   ]
  },
  {
   "cell_type": "code",
   "execution_count": 3,
   "metadata": {},
   "outputs": [],
   "source": [
    "import os\n",
    "from hopp.utilities.keys import set_developer_nrel_gov_key\n",
    "\n",
    "# Set API key manually if not using the .env\n",
    "global NREL_API_KEY\n",
    "NREL_API_KEY = os.getenv(\"NREL_API_KEY\") # Set this key manually here if you are not setting it using the .env\n",
    "set_developer_nrel_gov_key(NREL_API_KEY)  "
   ]
  },
  {
   "cell_type": "markdown",
   "metadata": {},
   "source": [
    "### Create the HOPP Model\n",
    "To generate the HOPP Model, instantiate the `HoppInterface` class and provide the technology configuration and site information in the YAML. This model is similar to example 01, with some notable differences:\n",
    "- The `site` information does not specify resource filepaths. This means that the API will be used to retrieve resource information for the site.\n",
    "- We specify other configuration options, such as `ppa_price` and `dc_degradation`. See the documentation for full descriptions of the available parameters for each technology."
   ]
  },
  {
   "cell_type": "code",
   "execution_count": 4,
   "metadata": {},
   "outputs": [],
   "source": [
    "hi = HoppInterface(\"./inputs/02-wind-solar-api.yaml\")"
   ]
  },
  {
   "cell_type": "markdown",
   "metadata": {},
   "source": [
    "### Run the Simulation\n",
    "Simulate the hybrid renewable energy system for a specified number of years (in this case, 25 years)."
   ]
  },
  {
   "cell_type": "code",
   "execution_count": 5,
   "metadata": {},
   "outputs": [],
   "source": [
    "hi.simulate(25)"
   ]
  },
  {
   "cell_type": "markdown",
   "metadata": {},
   "source": [
    "### Retrieve and Display Results\n",
    "Access the simulation results, including annual energies, capacity factors and net present values (NPVs), and print them to the console."
   ]
  },
  {
   "cell_type": "code",
   "execution_count": 6,
   "metadata": {},
   "outputs": [
    {
     "name": "stdout",
     "output_type": "stream",
     "text": [
      "Wind Installed Cost: 72700000.0\n",
      "Solar Installed Cost: 48000000.0\n",
      "Hybrid Installed Cost: 120700000.0\n",
      "Wind NPV: -37054112.94902411\n",
      "Solar NPV: -24986062.58280176\n",
      "Hybrid NPV: -65015880.48273513\n",
      "{\"pv\": 104289820.46059448, \"wind\": 156936144.3525474, \"hybrid\": 250449987.43150324}\n",
      "{\"pv\": 30.95359968008512, \"wind\": 35.830169943503975, \"hybrid\": 33.70992200288708}\n",
      "{\"pv\": -24986062.58280176, \"wind\": -37054112.94902411, \"hybrid\": -65015880.48273513}\n"
     ]
    }
   ],
   "source": [
    "hybrid_plant = hi.system\n",
    "annual_energies = hybrid_plant.annual_energies\n",
    "npvs = hybrid_plant.net_present_values\n",
    "cf = hybrid_plant.capacity_factors\n",
    "\n",
    "wind_installed_cost = hybrid_plant.wind.total_installed_cost\n",
    "solar_installed_cost = hybrid_plant.pv.total_installed_cost\n",
    "hybrid_installed_cost = hybrid_plant.grid.total_installed_cost\n",
    "\n",
    "print(\"Wind Installed Cost: {}\".format(wind_installed_cost))\n",
    "print(\"Solar Installed Cost: {}\".format(solar_installed_cost))\n",
    "print(\"Hybrid Installed Cost: {}\".format(hybrid_installed_cost))\n",
    "\n",
    "print(\"Wind NPV: {}\".format(hybrid_plant.net_present_values.wind))\n",
    "print(\"Solar NPV: {}\".format(hybrid_plant.net_present_values.pv))\n",
    "print(\"Hybrid NPV: {}\".format(hybrid_plant.net_present_values.hybrid))\n",
    "\n",
    "print(annual_energies)\n",
    "print(cf)\n",
    "print(npvs)"
   ]
  }
 ],
 "metadata": {
  "interpreter": {
   "hash": "c4181dcdfcea4d6481020f2ce48a9cbe5cdfeb7af5e211e5dfd3ac596bfed8bd"
  },
  "kernelspec": {
   "display_name": "hopp",
   "language": "python",
   "name": "hopp"
  },
  "language_info": {
   "codemirror_mode": {
    "name": "ipython",
    "version": 3
   },
   "file_extension": ".py",
   "mimetype": "text/x-python",
   "name": "python",
   "nbconvert_exporter": "python",
   "pygments_lexer": "ipython3",
   "version": "3.8.18"
  }
 },
 "nbformat": 4,
 "nbformat_minor": 4
}
