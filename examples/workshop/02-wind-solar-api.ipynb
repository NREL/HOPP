{
 "cells": [
  {
   "cell_type": "markdown",
   "metadata": {},
   "source": [
    "# Simple Wind and Solar Hybrid Plant using API Key Example\n",
    "---\n",
    "In this example, we will use the NREL API key to download wind and solar resource data at a given location and simulate a hybrid system."
   ]
  },
  {
   "cell_type": "markdown",
   "metadata": {},
   "source": [
    "### Import Required Modules\n",
    "We start by importing the necessary modules and setting up our working environment."
   ]
  },
  {
   "cell_type": "code",
   "execution_count": 2,
   "metadata": {},
   "outputs": [
    {
     "name": "stdout",
     "output_type": "stream",
     "text": [
      "/Users/kbrunik/github/forked/HOPP/examples/workshop/log/hybrid_systems_2023-09-28T09.41.52.276176.log\n"
     ]
    }
   ],
   "source": [
    "from hopp.utilities.keys import set_nrel_key_dot_env\n",
    "from hopp.simulation.hybrid_simulation import HybridSimulation\n",
    "from hopp.simulation.technologies.sites import SiteInfo\n",
    "from hopp.simulation.technologies.sites import flatirons_site as sample_site"
   ]
  },
  {
   "cell_type": "markdown",
   "metadata": {},
   "source": [
    "### Set API Key\n",
    "To access the Wind Toolkit (wind resource) and NSRDB (solar resource) data, we need to set an API key. You can obtain an API key from the [NREL developer website](https://developer.nrel.gov/signup/).\n",
    "\n",
    "To set up the `NREL_API_KEY` required for resource downloads, you can create an Environment Variable called `NREL_API_KEY`. Otherwise, you can keep the key in a new file called \".env\" in the root directory of this project.\n",
    "\n",
    "Create a file \".env\" that contains the single line:\n",
    "`NREL_API_KEY=key`"
   ]
  },
  {
   "cell_type": "code",
   "execution_count": 3,
   "metadata": {},
   "outputs": [],
   "source": [
    "# Set API key using the .env\n",
    "set_nrel_key_dot_env()"
   ]
  },
  {
   "cell_type": "markdown",
   "metadata": {},
   "source": [
    "#### (Optional)\n",
    "\n",
    "This step is if you do not set the API key using a \".env\" file."
   ]
  },
  {
   "cell_type": "code",
   "execution_count": 20,
   "metadata": {},
   "outputs": [],
   "source": [
    "import os\n",
    "from hopp.utilities.keys import set_developer_nrel_gov_key\n",
    "\n",
    "# Set API key manually if not using the .env\n",
    "global NREL_API_KEY\n",
    "NREL_API_KEY = os.getenv(\"NREL_API_KEY\") # Set this key manually here if you are not setting it using the .env\n",
    "set_developer_nrel_gov_key(NREL_API_KEY)  "
   ]
  },
  {
   "cell_type": "markdown",
   "metadata": {},
   "source": [
    "### Retrieve Resource Data\n",
    "Obtain the resource data for your location. Set the `site_input_data` dictionary with the desired location, year, and resources used in hybrid plant. The `SiteInfo` will download the resource data using the API key."
   ]
  },
  {
   "cell_type": "code",
   "execution_count": 5,
   "metadata": {},
   "outputs": [],
   "source": [
    "site_input_data = sample_site\n",
    "site_input_data['lat'] = 35.2018863\n",
    "site_input_data['lon'] = -101.945027\n",
    "site_input_data['year'] = 2012\n",
    "\n",
    "site = SiteInfo(\n",
    "    site_input_data,\n",
    "    solar=True,\n",
    "    wind=True,\n",
    "    wave=False\n",
    ")"
   ]
  },
  {
   "cell_type": "markdown",
   "metadata": {},
   "source": [
    "### Define System Capacities\n",
    "Specify the capacities of the solar, wind, and interconnection components of the hybrid system in megawatts (MW)."
   ]
  },
  {
   "cell_type": "code",
   "execution_count": 6,
   "metadata": {},
   "outputs": [],
   "source": [
    "solar_size_mw = 50\n",
    "wind_size_mw = 50\n",
    "interconnection_size_mw = 50"
   ]
  },
  {
   "cell_type": "markdown",
   "metadata": {},
   "source": [
    "### Define Technologies Configuration\n",
    "Configure the characteristics of each technology in the system, including PV (solar), wind, and grid interconnection."
   ]
  },
  {
   "cell_type": "code",
   "execution_count": 7,
   "metadata": {},
   "outputs": [],
   "source": [
    "technologies = {\n",
    "    'pv': {\n",
    "        'system_capacity_kw': solar_size_mw * 1000\n",
    "    },\n",
    "    'wind': {\n",
    "        'num_turbines': 10,\n",
    "        'turbine_rating_kw': 5000\n",
    "    },\n",
    "    'grid': {\n",
    "        'interconnect_kw': interconnection_size_mw * 1000\n",
    "    }\n",
    "}"
   ]
  },
  {
   "cell_type": "markdown",
   "metadata": {},
   "source": [
    "### Create the Hybrid Simulation Model\n",
    "Create an instance of the `HybridSimulation` class by providing the technology configuration and site information."
   ]
  },
  {
   "cell_type": "code",
   "execution_count": 8,
   "metadata": {},
   "outputs": [],
   "source": [
    "hybrid_plant = HybridSimulation(technologies, site)"
   ]
  },
  {
   "cell_type": "markdown",
   "metadata": {},
   "source": [
    "### Configure Simulation Parameters\n",
    "Modify various parameters for the simulation, such as the system capacity, power purchase agreement (PPA) price, and DC degradation for the PV system."
   ]
  },
  {
   "cell_type": "code",
   "execution_count": 9,
   "metadata": {},
   "outputs": [],
   "source": [
    "hybrid_plant.pv.system_capacity_kw = solar_size_mw * 1000\n",
    "hybrid_plant.wind.system_capacity_by_num_turbines(wind_size_mw * 1000)\n",
    "hybrid_plant.ppa_price = 0.1\n",
    "hybrid_plant.pv.dc_degradation = [0] * 25"
   ]
  },
  {
   "cell_type": "markdown",
   "metadata": {},
   "source": [
    "### Run the Simulation\n",
    "Simulate the hybrid renewable energy system for a specified number of years (in this case, 25 years)."
   ]
  },
  {
   "cell_type": "code",
   "execution_count": 10,
   "metadata": {},
   "outputs": [],
   "source": [
    "hybrid_plant.simulate(25)"
   ]
  },
  {
   "cell_type": "markdown",
   "metadata": {},
   "source": [
    "### Retrieve and Display Results\n",
    "Access the simulation results, including annual energies, capacity factors and net present values (NPVs), and print them to the console."
   ]
  },
  {
   "cell_type": "code",
   "execution_count": 11,
   "metadata": {},
   "outputs": [
    {
     "name": "stdout",
     "output_type": "stream",
     "text": [
      "Wind Installed Cost: 72700000.0\n",
      "Solar Installed Cost: 48000000.0\n",
      "Hybrid Installed Cost: 120700000.0\n",
      "Wind NPV: 54696750.69692759\n",
      "Solar NPV: 59878156.04987331\n",
      "Hybrid NPV: 104313009.79654434\n",
      "{\"pv\": 104053614.17593749, \"wind\": 156936144.3525466, \"hybrid\": 250319641.2168857}\n",
      "{\"pv\": 23.75653291688071, \"wind\": 35.83016994350379, \"hybrid\": 29.793351430192253}\n",
      "{\"pv\": 59878156.04987331, \"wind\": 54696750.69692759, \"hybrid\": 104313009.79654434}\n"
     ]
    }
   ],
   "source": [
    "annual_energies = hybrid_plant.annual_energies\n",
    "npvs = hybrid_plant.net_present_values\n",
    "cf = hybrid_plant.capacity_factors\n",
    "\n",
    "wind_installed_cost = hybrid_plant.wind.total_installed_cost\n",
    "solar_installed_cost = hybrid_plant.pv.total_installed_cost\n",
    "hybrid_installed_cost = hybrid_plant.grid.total_installed_cost\n",
    "\n",
    "print(\"Wind Installed Cost: {}\".format(wind_installed_cost))\n",
    "print(\"Solar Installed Cost: {}\".format(solar_installed_cost))\n",
    "print(\"Hybrid Installed Cost: {}\".format(hybrid_installed_cost))\n",
    "\n",
    "print(\"Wind NPV: {}\".format(hybrid_plant.net_present_values.wind))\n",
    "print(\"Solar NPV: {}\".format(hybrid_plant.net_present_values.pv))\n",
    "print(\"Hybrid NPV: {}\".format(hybrid_plant.net_present_values.hybrid))\n",
    "\n",
    "print(annual_energies)\n",
    "print(cf)\n",
    "print(npvs)"
   ]
  }
 ],
 "metadata": {
  "interpreter": {
   "hash": "c4181dcdfcea4d6481020f2ce48a9cbe5cdfeb7af5e211e5dfd3ac596bfed8bd"
  },
  "kernelspec": {
   "display_name": "Python 3.8.17 ('storage')",
   "language": "python",
   "name": "python3"
  },
  "language_info": {
   "codemirror_mode": {
    "name": "ipython",
    "version": 3
   },
   "file_extension": ".py",
   "mimetype": "text/x-python",
   "name": "python",
   "nbconvert_exporter": "python",
   "pygments_lexer": "ipython3",
   "version": "3.8.17"
  },
  "orig_nbformat": 4
 },
 "nbformat": 4,
 "nbformat_minor": 2
}
