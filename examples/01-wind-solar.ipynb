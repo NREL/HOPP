{
 "cells": [
  {
   "cell_type": "markdown",
   "metadata": {},
   "source": [
    "# Simple Wind and Solar Hybrid Plant Example\n",
    "---\n",
    "In this example, we will walk through the process of simulating a hybrid renewable energy system using the Hybrid Optimization Performance Platform ([HOPP](https://github.com/NREL/HOPP)) library. We will simulate a hybrid system at a given location consisting of both wind and solar energy, and show how to access the simulation outputs."
   ]
  },
  {
   "cell_type": "markdown",
   "metadata": {},
   "source": [
    "### Import Required Modules\n",
    "We start by importing the necessary modules and setting up our working environment."
   ]
  },
  {
   "cell_type": "code",
   "execution_count": 1,
   "metadata": {},
   "outputs": [
    {
     "name": "stdout",
     "output_type": "stream",
     "text": [
      "/Users/cirmas/workspace/HOPP/examples/log/hybrid_systems_2023-11-22T11.22.32.144293.log\n"
     ]
    }
   ],
   "source": [
    "from hopp.simulation import HoppInterface"
   ]
  },
  {
   "cell_type": "markdown",
   "metadata": {},
   "source": [
    "### Create the HOPP Model\n",
    "To generate the HOPP Model, instantiate the `HoppInterface` class and supply the required YAML configuration.\n",
    "\n",
    "Within the YAML configuration, you have the flexibility to define the plant's location details and configure the associated technologies, in this case wind and solar pv.\n",
    "\n",
    "In this example, we use the Flatirons site as a sample location and configure the wind and solar data for this particular site using pre-existing data files."
   ]
  },
  {
   "cell_type": "code",
   "execution_count": 2,
   "metadata": {},
   "outputs": [],
   "source": [
    "hi = HoppInterface(\"./inputs/01-wind-solar.yaml\")"
   ]
  },
  {
   "cell_type": "markdown",
   "metadata": {},
   "source": [
    "### Run the Simulation\n",
    "Simulate the hybrid renewable energy system for a specified number of years (in this case, 25 years)."
   ]
  },
  {
   "cell_type": "code",
   "execution_count": 3,
   "metadata": {},
   "outputs": [],
   "source": [
    "hi.simulate(25)"
   ]
  },
  {
   "cell_type": "markdown",
   "metadata": {},
   "source": [
    "### Retrieve and Display Results\n",
    "Access the simulation results, including annual energies, capacity factors and net present values (NPVs), and print them to the console."
   ]
  },
  {
   "cell_type": "code",
   "execution_count": 4,
   "metadata": {},
   "outputs": [
    {
     "name": "stdout",
     "output_type": "stream",
     "text": [
      "Wind Installed Cost: 72700000.0\n",
      "Solar Installed Cost: 48000000.0\n",
      "Hybrid Installed Cost: 120700000.0\n",
      "Wind NPV: -47401363.61809909\n",
      "Solar NPV: -33636480.232181095\n",
      "Hybrid NPV: -83204102.48278144\n",
      "{\"pv\": 104289820.46059448, \"wind\": 156936144.3525474, \"hybrid\": 250449987.43150324}\n",
      "{\"pv\": 30.95359968008512, \"wind\": 35.830169943503975, \"hybrid\": 33.70992200288708}\n",
      "{\"pv\": -33636480.232181095, \"wind\": -47401363.61809909, \"hybrid\": -83204102.48278144}\n"
     ]
    }
   ],
   "source": [
    "hybrid_plant = hi.system\n",
    "\n",
    "annual_energies = hybrid_plant.annual_energies\n",
    "npvs = hybrid_plant.net_present_values\n",
    "cf = hybrid_plant.capacity_factors\n",
    "\n",
    "wind_installed_cost = hybrid_plant.wind.total_installed_cost\n",
    "solar_installed_cost = hybrid_plant.pv.total_installed_cost\n",
    "hybrid_installed_cost = hybrid_plant.grid.total_installed_cost\n",
    "\n",
    "print(\"Wind Installed Cost: {}\".format(wind_installed_cost))\n",
    "print(\"Solar Installed Cost: {}\".format(solar_installed_cost))\n",
    "print(\"Hybrid Installed Cost: {}\".format(hybrid_installed_cost))\n",
    "\n",
    "print(\"Wind NPV: {}\".format(hybrid_plant.net_present_values.wind))\n",
    "print(\"Solar NPV: {}\".format(hybrid_plant.net_present_values.pv))\n",
    "print(\"Hybrid NPV: {}\".format(hybrid_plant.net_present_values.hybrid))\n",
    "\n",
    "print(annual_energies)\n",
    "print(cf)\n",
    "print(npvs)"
   ]
  }
 ],
 "metadata": {
  "interpreter": {
   "hash": "c4181dcdfcea4d6481020f2ce48a9cbe5cdfeb7af5e211e5dfd3ac596bfed8bd"
  },
  "kernelspec": {
   "display_name": "hopp",
   "language": "python",
   "name": "hopp"
  },
  "language_info": {
   "codemirror_mode": {
    "name": "ipython",
    "version": 3
   },
   "file_extension": ".py",
   "mimetype": "text/x-python",
   "name": "python",
   "nbconvert_exporter": "python",
   "pygments_lexer": "ipython3",
   "version": "3.8.18"
  }
 },
 "nbformat": 4,
 "nbformat_minor": 4
}
