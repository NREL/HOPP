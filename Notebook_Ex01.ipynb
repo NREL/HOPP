{
 "cells": [
  {
   "cell_type": "markdown",
   "metadata": {},
   "source": [
    "# HOPP Example 01: Basic Hybrid Plant\n",
    "Looks at a 50 MW plant (interconnection), with 50 MW of installed wind and 50 MW of installed solar.\n",
    "The plant site is located at the NREL Flatirons.\n"
   ]
  },
  {
   "cell_type": "code",
   "execution_count": 1,
   "metadata": {},
   "outputs": [
    {
     "name": "stdout",
     "output_type": "stream",
     "text": [
      "/mnt/c/Users/gstarke/Documents/Research_Programs/HOPP/HOPP/log/hybrid_systems_2023-01-23T17.07.34.499651.log\n"
     ]
    }
   ],
   "source": [
    "import sys\n",
    "import os\n",
    "from pathlib import Path\n",
    "import json\n",
    "from pathlib import Path\n",
    "import pandas as pd\n",
    "sys.path.append('')\n",
    "\n",
    "from hybrid.sites import SiteInfo, flatirons_site\n",
    "from hybrid.hybrid_simulation import HybridSimulation\n",
    "from hybrid.log import hybrid_logger as logger\n",
    "from hybrid.keys import set_nrel_key_dot_env\n",
    "\n",
    "examples_dir = Path(\"examples\")\n",
    "\n",
    "# Set API key\n",
    "set_nrel_key_dot_env()"
   ]
  },
  {
   "cell_type": "markdown",
   "metadata": {},
   "source": [
    "## Setting the plant characteristics"
   ]
  },
  {
   "cell_type": "code",
   "execution_count": 4,
   "metadata": {},
   "outputs": [],
   "source": [
    "# Set characteristics of the system - NREL Flatirons site \n",
    "\n",
    "# Set wind, solar, and interconnection capacities (in MW)\n",
    "solar_size_mw = 50\n",
    "wind_size_mw = 50\n",
    "interconnection_size_mw = 50\n",
    "\n",
    "technologies = {'pv': {\n",
    "                    'system_capacity_kw': solar_size_mw * 1000\n",
    "                },\n",
    "                'wind': {\n",
    "                    'num_turbines': 10,\n",
    "                    'turbine_rating_kw': 2000\n",
    "                }}\n"
   ]
  },
  {
   "cell_type": "markdown",
   "metadata": {},
   "source": [
    "## Loading the resource and site data"
   ]
  },
  {
   "cell_type": "code",
   "execution_count": 5,
   "metadata": {},
   "outputs": [],
   "source": [
    "# Load the resource information\n",
    "lat = flatirons_site['lat']\n",
    "lon = flatirons_site['lon']\n",
    "prices_file = examples_dir.parent / \"resource_files\" / \"grid\" / \"pricing-data-2015-IronMtn-002_factors.csv\"\n",
    "site = SiteInfo(flatirons_site, grid_resource_file=prices_file)"
   ]
  },
  {
   "cell_type": "markdown",
   "metadata": {},
   "source": [
    "## Running the hybrid plant"
   ]
  },
  {
   "cell_type": "code",
   "execution_count": 6,
   "metadata": {},
   "outputs": [
    {
     "name": "stdout",
     "output_type": "stream",
     "text": [
      "dispatch options:  None\n",
      "Dispatch optimization not required...\n"
     ]
    }
   ],
   "source": [
    "# Create model\n",
    "hybrid_plant = HybridSimulation(technologies, site, interconnect_kw=interconnection_size_mw * 1000)\n",
    "\n",
    "# Adjust some inptus to the model \n",
    "hybrid_plant.pv.system_capacity_kw = solar_size_mw * 1000\n",
    "hybrid_plant.wind.system_capacity_by_num_turbines(wind_size_mw * 1000)\n",
    "hybrid_plant.ppa_price = 0.1\n",
    "hybrid_plant.pv.dc_degradation = [0] * 25\n",
    "\n",
    "# Simulate the plant for 25 years\n",
    "plant_life = 25\n",
    "hybrid_plant.simulate(plant_life)"
   ]
  },
  {
   "cell_type": "markdown",
   "metadata": {},
   "source": [
    "## Writing the outputs from the simulation"
   ]
  },
  {
   "cell_type": "code",
   "execution_count": 6,
   "metadata": {},
   "outputs": [
    {
     "name": "stdout",
     "output_type": "stream",
     "text": [
      "Wind Installed Cost: 72700000.0\n",
      "Solar Installed Cost: 48000000.0\n",
      "Hybrid Installed Cost: 120700000.0\n",
      "Wind NPV: 57563093.90112695\n",
      "Solar NPV: 42421773.179174826\n",
      "Hybrid NPV: 92024910.99193442\n",
      "Wind + Solar Expected NPV: 99984867.08030178\n",
      "{\"pv\": 104053614.17242989, \"wind\": 154488744.90971112, \"hybrid\": 248440486.66069454}\n",
      "{\"pv\": 42421773.179174826, \"wind\": 57563093.90112695, \"hybrid\": 92024910.99193442}\n"
     ]
    }
   ],
   "source": [
    "# Save the outputs\n",
    "annual_energies = hybrid_plant.annual_energies\n",
    "wind_plus_solar_npv = hybrid_plant.net_present_values.wind + hybrid_plant.net_present_values.pv\n",
    "npvs = hybrid_plant.net_present_values\n",
    "\n",
    "wind_installed_cost = hybrid_plant.wind.total_installed_cost\n",
    "solar_installed_cost = hybrid_plant.pv.total_installed_cost\n",
    "hybrid_installed_cost = hybrid_plant.grid.total_installed_cost\n",
    "\n",
    "print(\"Wind Installed Cost: {}\".format(wind_installed_cost))\n",
    "print(\"Solar Installed Cost: {}\".format(solar_installed_cost))\n",
    "print(\"Hybrid Installed Cost: {}\".format(hybrid_installed_cost))\n",
    "print(\"Wind NPV: {}\".format(hybrid_plant.net_present_values.wind))\n",
    "print(\"Solar NPV: {}\".format(hybrid_plant.net_present_values.pv))\n",
    "print(\"Hybrid NPV: {}\".format(hybrid_plant.net_present_values.hybrid))\n",
    "print(\"Wind + Solar Expected NPV: {}\".format(wind_plus_solar_npv))\n",
    "\n",
    "\n",
    "print(annual_energies)\n",
    "print(npvs)"
   ]
  }
 ],
 "metadata": {
  "kernelspec": {
   "display_name": "Python 3.8.13 ('hopp-main')",
   "language": "python",
   "name": "python3"
  },
  "language_info": {
   "codemirror_mode": {
    "name": "ipython",
    "version": 3
   },
   "file_extension": ".py",
   "mimetype": "text/x-python",
   "name": "python",
   "nbconvert_exporter": "python",
   "pygments_lexer": "ipython3",
   "version": "3.8.13"
  },
  "orig_nbformat": 4,
  "vscode": {
   "interpreter": {
    "hash": "b8b039229495999f7ddb9fce4756ddaa5e2b4cfaec07dce8c203cfd9b5e8f310"
   }
  }
 },
 "nbformat": 4,
 "nbformat_minor": 2
}
