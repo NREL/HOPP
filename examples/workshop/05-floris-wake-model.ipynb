{
 "cells": [
  {
   "cell_type": "markdown",
   "metadata": {},
   "source": [
    "# Swap Default PySAM WindPower for FLORIS Example\n",
    "---\n",
    "In this example, we will show how to change the default [PySAM WindPower](https://nrel-pysam.readthedocs.io/en/main/modules/Windpower.html) wind model to the [FLORIS](https://www.nrel.gov/wind/floris.html) wind model. FLORIS is capable of modeling different steady-state wind wake models and complex turbine interactions. This example is meant to illustrate how the inputs to HOPP change, although it's important to note that FLORIS offers additional adjustable parameters on its side."
   ]
  },
  {
   "cell_type": "markdown",
   "metadata": {},
   "source": [
    "### Import Required Modules\n",
    "We start by importing the necessary modules and setting up our working environment."
   ]
  },
  {
   "cell_type": "code",
   "execution_count": 11,
   "metadata": {},
   "outputs": [],
   "source": [
    "from hopp.simulation.hybrid_simulation import HybridSimulation"
   ]
  },
  {
   "cell_type": "markdown",
   "metadata": {},
   "source": [
    "### Set Site Information\n",
    "Set wind and solar resource data at plant location. In this example, we use the Flatirons site as an example location."
   ]
  },
  {
   "cell_type": "code",
   "execution_count": 12,
   "metadata": {},
   "outputs": [],
   "source": [
    "from hopp import ROOT_DIR\n",
    "from hopp.simulation.technologies.sites import SiteInfo, flatirons_site\n",
    "\n",
    "DEFAULT_SOLAR_RESOURCE_FILE = ROOT_DIR.parent / \"resource_files\" / \"solar\" / \"35.2018863_-101.945027_psmv3_60_2012.csv\"\n",
    "DEFAULT_WIND_RESOURCE_FILE = ROOT_DIR.parent / \"resource_files\" / \"wind\" / \"35.2018863_-101.945027_windtoolkit_2012_60min_80m_100m.srw\"\n",
    "\n",
    "\n",
    "site = SiteInfo(\n",
    "        flatirons_site,\n",
    "        solar_resource_file=DEFAULT_SOLAR_RESOURCE_FILE,\n",
    "        wind_resource_file=DEFAULT_WIND_RESOURCE_FILE,\n",
    "        solar=True,\n",
    "        wind=True,\n",
    "        wave=False\n",
    "    )"
   ]
  },
  {
   "cell_type": "markdown",
   "metadata": {},
   "source": [
    "### Define System Capacities\n",
    "Specify the capacities of the solar, wind, and interconnection components of the hybrid system in megawatts (MW)."
   ]
  },
  {
   "cell_type": "code",
   "execution_count": 13,
   "metadata": {},
   "outputs": [],
   "source": [
    "solar_size_mw = 50\n",
    "wind_size_mw = 20\n",
    "interconnection_size_mw = 50"
   ]
  },
  {
   "cell_type": "markdown",
   "metadata": {},
   "source": [
    "### Read in FLORIS Configuration\n",
    "The FLORIS configuration is defined in a `yaml` file that has the wind farm layout and wake models defined."
   ]
  },
  {
   "cell_type": "code",
   "execution_count": 21,
   "metadata": {},
   "outputs": [],
   "source": [
    "import yaml\n",
    "\n",
    "floris_file = \"inputs/floris/gch.yaml\"\n",
    "with open(floris_file, 'r') as f:\n",
    "    floris_config = yaml.load(f, yaml.FullLoader)"
   ]
  },
  {
   "cell_type": "markdown",
   "metadata": {},
   "source": [
    "### Define Technologies Configuration\n",
    "Configure the characteristics of each technology in the system, including PV (solar), wind, and grid interconnection.\n",
    "\n",
    "**NOTE**: Setting up the wind technology is different from when using PySAM WindPower. You must include the `floris_config` in the wind technology.\n"
   ]
  },
  {
   "cell_type": "code",
   "execution_count": 22,
   "metadata": {},
   "outputs": [],
   "source": [
    "technologies = {\n",
    "    'pv': {\n",
    "        'system_capacity_kw': solar_size_mw * 1000\n",
    "    },\n",
    "    'wind': {\n",
    "        'num_turbines': 4,\n",
    "        'turbine_rating_kw':  (wind_size_mw * 1e3) / 4, \n",
    "        'model_name': 'floris', \n",
    "        'timestep': [0, 8760],\n",
    "        'floris_config':floris_config,\n",
    "        'skip_financial': True\n",
    "        },\n",
    "    'grid': {\n",
    "        'interconnect_kw': interconnection_size_mw * 1000\n",
    "    }\n",
    "    }"
   ]
  },
  {
   "cell_type": "markdown",
   "metadata": {},
   "source": [
    "### Create the Hybrid Simulation Model\n",
    "Create an instance of the `HybridSimulation` class by providing the technology configuration and site information.\n",
    "\n",
    "**NOTE**: When you create the instance you should see a print out that says `FLORIS is the system model...`"
   ]
  },
  {
   "cell_type": "code",
   "execution_count": 23,
   "metadata": {},
   "outputs": [
    {
     "name": "stdout",
     "output_type": "stream",
     "text": [
      "FLORIS is the system model...\n"
     ]
    }
   ],
   "source": [
    "hybrid_plant = HybridSimulation(technologies, site)"
   ]
  },
  {
   "cell_type": "markdown",
   "metadata": {},
   "source": [
    "### Run the Simulation\n",
    "Simulate the hybrid renewable energy system for a specified number of years (in this case, 25 years)."
   ]
  },
  {
   "cell_type": "code",
   "execution_count": 24,
   "metadata": {},
   "outputs": [
    {
     "name": "stdout",
     "output_type": "stream",
     "text": [
      "Simulating wind farm output in FLORIS...\n",
      "Wind annual energy:  53899704.432676055\n"
     ]
    }
   ],
   "source": [
    "hybrid_plant.simulate(25)"
   ]
  },
  {
   "cell_type": "markdown",
   "metadata": {},
   "source": [
    "### Retrieve and Display Results\n",
    "Access the simulation results, including annual energies, capacity factors and net present values (NPVs), and print them to the console."
   ]
  },
  {
   "cell_type": "code",
   "execution_count": 10,
   "metadata": {},
   "outputs": [
    {
     "name": "stdout",
     "output_type": "stream",
     "text": [
      "Wind Installed Cost: 72700000.0\n",
      "Solar Installed Cost: 48000000.0\n",
      "Hybrid Installed Cost: 120700000.0\n",
      "Wind NPV: -68746620.18680064\n",
      "Solar NPV: -35042037.04939877\n",
      "Hybrid NPV: -104296171.12675565\n",
      "{\"pv\": 104053614.17593749, \"wind\": 71702641.3705228, \"hybrid\": 175298576.2259878}\n",
      "{\"pv\": 23.75653291688071, \"wind\": 16.370466066329406, \"hybrid\": 20.063499491605054}\n",
      "{\"pv\": -35042037.04939877, \"wind\": -68746620.18680064, \"hybrid\": -104296171.12675565}\n"
     ]
    }
   ],
   "source": [
    "annual_energies = hybrid_plant.annual_energies\n",
    "npvs = hybrid_plant.net_present_values\n",
    "cf = hybrid_plant.capacity_factors\n",
    "\n",
    "wind_installed_cost = hybrid_plant.wind.total_installed_cost\n",
    "solar_installed_cost = hybrid_plant.pv.total_installed_cost\n",
    "hybrid_installed_cost = hybrid_plant.grid.total_installed_cost\n",
    "\n",
    "print(\"Wind Installed Cost: {}\".format(wind_installed_cost))\n",
    "print(\"Solar Installed Cost: {}\".format(solar_installed_cost))\n",
    "print(\"Hybrid Installed Cost: {}\".format(hybrid_installed_cost))\n",
    "\n",
    "print(\"Wind NPV: {}\".format(hybrid_plant.net_present_values.wind))\n",
    "print(\"Solar NPV: {}\".format(hybrid_plant.net_present_values.pv))\n",
    "print(\"Hybrid NPV: {}\".format(hybrid_plant.net_present_values.hybrid))\n",
    "\n",
    "print(annual_energies)\n",
    "print(cf)\n",
    "print(npvs)"
   ]
  }
 ],
 "metadata": {
  "interpreter": {
   "hash": "c4181dcdfcea4d6481020f2ce48a9cbe5cdfeb7af5e211e5dfd3ac596bfed8bd"
  },
  "kernelspec": {
   "display_name": "Python 3.8.17 ('storage')",
   "language": "python",
   "name": "python3"
  },
  "language_info": {
   "codemirror_mode": {
    "name": "ipython",
    "version": 3
   },
   "file_extension": ".py",
   "mimetype": "text/x-python",
   "name": "python",
   "nbconvert_exporter": "python",
   "pygments_lexer": "ipython3",
   "version": "3.8.17"
  },
  "orig_nbformat": 4
 },
 "nbformat": 4,
 "nbformat_minor": 2
}
