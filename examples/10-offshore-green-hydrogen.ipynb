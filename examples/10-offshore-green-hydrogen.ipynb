{
 "cells": [
  {
   "cell_type": "markdown",
   "metadata": {},
   "source": [
    "# Hybrid Plant with Offshore Wind, Solar, Battery and Hydrogen Example\n",
    "---\n",
    "In this example we will simulate an offshore hybrid plant using the GreenHEART software. This software can be configured to simulate both onshore and offshore plant scenarios.\n",
    "\n",
    "This simulation starts with renewable energy generation using offshore wind and solar PV technologies, which then can be stored in a battery or directly supplied to a PEM electrolyzer for hydrogen production. If the hydrogen is produced offshore it can be transport onshore for use or storage or be stored offshore."
   ]
  },
  {
   "cell_type": "markdown",
   "metadata": {},
   "source": [
    "### Import Required Modules\n",
    "---\n",
    "Begin by importing the necessary modules for the GreenHEART simulation."
   ]
  },
  {
   "cell_type": "code",
   "execution_count": 1,
   "metadata": {},
   "outputs": [
    {
     "name": "stdout",
     "output_type": "stream",
     "text": [
      "/Users/kbrunik/github/HOPP/examples/log/hybrid_systems_2024-07-16T20.36.10.728977.log\n"
     ]
    },
    {
     "name": "stderr",
     "output_type": "stream",
     "text": [
      "/Users/kbrunik/anaconda3/envs/gh/lib/python3.8/site-packages/fastkml/config.py:28: UserWarning: Package `lxml` missing. Pretty print will be disabled\n",
      "  warnings.warn(\"Package `lxml` missing. Pretty print will be disabled\")\n"
     ]
    },
    {
     "name": "stdout",
     "output_type": "stream",
     "text": [
      "ORBIT library intialized at '/Users/kbrunik/github/HOPP/examples/./inputs/10-inputs/'\n"
     ]
    }
   ],
   "source": [
    "#general imports\n",
    "import os\n",
    "\n",
    "# GreenHEART imports\n",
    "from greenheart.simulation.greenheart_simulation import GreenHeartSimulationConfig\n",
    "from greenheart.tools.optimization.gc_run_greenheart import run_greenheart\n",
    "\n",
    "# ORBIT imports\n",
    "from ORBIT.core.library import initialize_library\n",
    "initialize_library(os.path.join(os.getcwd(), \"./inputs/10-inputs/\"))"
   ]
  },
  {
   "cell_type": "markdown",
   "metadata": {},
   "source": [
    "### Load Simulation Input Files\n",
    "---\n",
    "Input files are in a YAML file format. Five YAML files are required for offshore analysis:\n",
    "1. HOPP Configuration YAML\n",
    "2. GreenHEART Configuration YAML\n",
    "3. Wind Turbine Configuration YAML\n",
    "4. FLORIS Configuration YAML\n",
    "5. ORBIT Configuration YAML"
   ]
  },
  {
   "cell_type": "markdown",
   "metadata": {},
   "source": [
    "#### HOPP YAML Overview\n",
    "\n",
    "The HOPP YAML file includes information required for simulating the renewable energy generation at the plant. Such as:\n",
    "\n",
    "- **Analysis Location**: Specifies latitude, longitude, site boundaries, and resource files.\n",
    "- **Generation Technologies**: Encompasses details on wind, solar PV, and battery storage systems.\n",
    "- **General Generation Configuration Options**: Encompasses simulation options, battery dispatch strategies, and cost information."
   ]
  },
  {
   "cell_type": "code",
   "execution_count": 9,
   "metadata": {},
   "outputs": [],
   "source": [
    "filename_hopp_config = \"./inputs/10-inputs/plant/hopp_config_gom.yaml\""
   ]
  },
  {
   "cell_type": "markdown",
   "metadata": {},
   "source": [
    "#### GreenHEART YAML Overview\n",
    "\n",
    "The GreenHEART YAML file includes information required for simulating the renewable energy generation through the end product production (hydrogen, steel, ammonia). Such as:\n",
    "\n",
    "- **Plant Design Scenarios**: Specifies location and connection of individual components of plant.\n",
    "- **Financial Parameters**: General financial parameters needed for calculating the levelized cost of product and other financial metrics.\n",
    "- **Hydrogen Equipment Information**: Including electrolyzer specifications, compressor, pipeline, and H<sub>2</sub> storage information.\n",
    "- **Policy Options**: Describes options to include [IRA](https://www.whitehouse.gov/wp-content/uploads/2022/12/Inflation-Reduction-Act-Guidebook.pdf) tax incentives policy in GreenHEART simulation."
   ]
  },
  {
   "cell_type": "code",
   "execution_count": 3,
   "metadata": {},
   "outputs": [],
   "source": [
    "filename_greenheart_config = \"./inputs/10-inputs/plant/greenheart_config_offshore_gom.yaml\""
   ]
  },
  {
   "cell_type": "markdown",
   "metadata": {},
   "source": [
    "#### Wind Turbine and FLORIS YAML Overview\n",
    "\n",
    "The GreenHEART simulation runs a steady-state wake modeling tool ([FLORIS](https://www.nrel.gov/wind/floris.html)) to assess the wind farm's energy production. For accurate modeling within FLORIS, two configuration YAML files are required:\n",
    "\n",
    "- The **Wind Turbine YAML** file includes the description of the turbine including turbine rating rotor diameter, hub hight, and the power curve.\n",
    "- The **FLORIS YAML** file includes atmospheric conditions and wake models used in simulation."
   ]
  },
  {
   "cell_type": "code",
   "execution_count": 4,
   "metadata": {},
   "outputs": [],
   "source": [
    "turbine_model = \"osw_17MW\"\n",
    "filename_turbine_config = \"./inputs/10-inputs/turbines/\" + turbine_model + \".yaml\"\n",
    "filename_floris_config = \"./inputs/10-inputs/floris/floris_input_\" + turbine_model + \".yaml\""
   ]
  },
  {
   "cell_type": "markdown",
   "metadata": {},
   "source": [
    "#### ORBIT YAML Overview\n",
    "\n",
    "The GreenHEART simulation uses [ORBIT](https://www.nrel.gov/docs/fy20osti/77081.pdf) to calculate offshore wind component, installation and balance-of-system costs. ORBIT requires a YAML file which includes:\n",
    "- **Additional Site Information**: Used for parameterizing the offshore environment.\n",
    "- **Equipment Information**: Includes specifications for cabling, substructure design, etc.\n",
    "- **Vessel Information**: Information about vessels used to install and maintain offshore plant.\n",
    "- **Installation Information**: Installation availability and installation phases."
   ]
  },
  {
   "cell_type": "code",
   "execution_count": 5,
   "metadata": {},
   "outputs": [],
   "source": [
    "filename_orbit_config= \"./inputs/10-inputs/plant/orbit-config-\"+turbine_model+\"-gom.yaml\""
   ]
  },
  {
   "cell_type": "markdown",
   "metadata": {},
   "source": [
    "### Create Full Configuration to Run GreenHEART Simulation\n",
    "---\n",
    "The class `GreenHeartSimulationConfig` reads in all the required YAML files described above, allows user to set additional settings while running the GreenHEART simulation, these include:\n",
    "- **verbose**: If set to `True` additional information about the simulation will be printed as it runs.\n",
    "- **show_plots**: If set to `True` the plots will pop up during the simulation.\n",
    "- **save_plots**: If set to `True` the plots will be saved in a figures folder.\n",
    "- **use_profast**: [ProFAST](https://github.com/NREL/ProFAST) is a financial analysis software that provides a quick and convenient in-depth financial analysis for production systems and services based on Generally Accepted Accounting Principles (GAAP) methodology.\n",
    "- **incentive_options**: Can select IRA incentives options which are located in the `GreenHEART YAML`.\n",
    "- **plant_design_scenario**: Can select the plant design scenario from options which are located in the `GreenHEART YAML`.\n",
    "- **output_level**: Determines what information is returned from the simulation."
   ]
  },
  {
   "cell_type": "code",
   "execution_count": 17,
   "metadata": {},
   "outputs": [
    {
     "name": "stdout",
     "output_type": "stream",
     "text": [
      "\n",
      "Plant configuration:\n",
      "turbine :  osw_17MW\n",
      "installation_availability :  0.7\n",
      "site :  {'area': 142, 'depth': 45, 'distance': 141.5414, 'distance_to_landfall': 44.74089, 'mean_windspeed': False}\n",
      "plant :  {'capacity': 986, 'layout': 'grid', 'num_turbines': 58, 'row_spacing': 7, 'substation_distance': 1, 'turbine_spacing': 7}\n",
      "landfall :  {'interconnection_distance': 5, 'trench_length': 4}\n",
      "array_cable_install_vessel :  example_cable_lay_vessel\n",
      "export_cable_install_vessel :  example_cable_lay_vessel\n",
      "oss_install_vessel :  example_heavy_lift_vessel\n",
      "spi_vessel :  example_scour_protection_vessel\n",
      "wtiv :  example_wtiv\n",
      "OffshoreSubstationInstallation :  {'feeder': 'example_heavy_feeder', 'num_feeders': 1}\n",
      "array_system :  {'free_cable_length': 0.5}\n",
      "array_system_design :  {'cables': ['XLPE_185mm_66KV', 'XLPE_630mm_66KV']}\n",
      "export_system_design :  {'cables': ['XLPE_1000m_220kV'], 'percent_added_length': 0.1}\n",
      "scour_protection_design :  {'cost_per_tonne': 40, 'scour_protection_depth': 1}\n",
      "MonopileDesign :  {'monopile_steel_cost': 3500, 'tp_steel_cost': 4500}\n",
      "design_phases :  ['ArraySystemDesign', 'MonopileDesign', 'ScourProtectionDesign', 'ElectricalDesign']\n",
      "install_phases :  {'MonopileInstallation': 0, 'ExportCableInstallation': 0, 'ScourProtectionInstallation': ('MonopileInstallation', 0.1), 'OffshoreSubstationInstallation': 0, 'ArrayCableInstallation': ('MonopileInstallation', 0.2), 'TurbineInstallation': ('MonopileInstallation', 0.3)}\n",
      "project_parameters :  {'turbine_capex': 1500, 'opex_rate': 53.25648}\n",
      "\n",
      "Turbine configuration:\n",
      "turbine_type :  osw_17MW\n",
      "generator_efficiency :  0.957563\n",
      "turbine_rating :  17.0\n",
      "rated_windspeed :  7.0\n",
      "hub_height :  168.0\n",
      "pP :  1.88\n",
      "pT :  1.88\n",
      "rotor_diameter :  278.035\n",
      "TSR :  9.0\n",
      "ref_tilt_cp_ct :  6.0\n",
      "tower :  {'deck_space': 78.5, 'mass': 560, 'length': 163, 'sections': 2, 'section_diameters': [10.0, 9.0], 'section_heights': [0.0, 163.0]}\n",
      "nacelle :  {'deck_space': 281, 'mass': 1003}\n",
      "blade :  {'length': 123, 'deck_space': 553.5, 'mass': 91}\n",
      "ref_density_cp_ct :  1.225\n",
      "power_thrust_table :  {'power': [0.0, 0.16865464, 0.37619304, 0.42067177, 0.43252714, 0.43554184, 0.43572894, 0.43572894, 0.43572894, 0.43572894, 0.43572894, 0.42027282, 0.37547625, 0.339614, 0.22896413, 0.15532944, 0.10691674, 0.0750524, 0.05388202, 0.03962032, 0.02985469, 0.0, 0.0], 'thrust': [0.0, 0.79301095, 0.76374783, 0.76731939, 0.76137324, 0.75671907, 0.7496741, 0.7496741, 0.7496741, 0.7496741, 0.7496741, 0.65776665, 0.54309148, 0.47233399, 0.29520804, 0.1944985, 0.13271888, 0.09351834, 0.06798931, 0.05096422, 0.03934766, 0.0, 0.0], 'wind_speed': [0.0, 3, 4.27204607, 5.30403148, 6.08010611, 6.58835037, 6.82095822, 6.86755938, 7.1926538, 7.79124841, 8.6541495, 9.76810389, 10.7501945, 11.11600255, 12.67714331, 14.42754887, 16.34033501, 18.38612357, 20.5334936, 22.74946399, 25, 25.02, 50.0]}\n",
      "\n",
      "\n",
      "Wind Capacity  986.0 MW\n",
      "Solar PV Capacity  1.0 MW\n",
      "Total hybrid plant rating calculated: 987.0 MW\n"
     ]
    }
   ],
   "source": [
    "config = GreenHeartSimulationConfig(\n",
    "    filename_hopp_config=filename_hopp_config,\n",
    "    filename_greenheart_config=filename_greenheart_config,\n",
    "    filename_turbine_config=filename_turbine_config,\n",
    "    filename_orbit_config=filename_orbit_config,\n",
    "    filename_floris_config=filename_floris_config,\n",
    "    verbose=True,\n",
    "    show_plots=False,\n",
    "    save_plots=False,\n",
    "    use_profast=True,\n",
    "    post_processing=False,\n",
    "    incentive_option=1,\n",
    "    plant_design_scenario=1,\n",
    "    output_level=5,\n",
    ")"
   ]
  },
  {
   "cell_type": "markdown",
   "metadata": {},
   "source": [
    "### Run the GreenHEART Simulation\n",
    "---\n",
    "The simulation runs a techno-economic analysis of a given plant configuration. Data and figures are output to a seperate folder."
   ]
  },
  {
   "cell_type": "code",
   "execution_count": 18,
   "metadata": {},
   "outputs": [
    {
     "name": "stderr",
     "output_type": "stream",
     "text": [
      "/Users/kbrunik/anaconda3/envs/gh/lib/python3.8/site-packages/openmdao/core/driver.py:546: OpenMDAOWarning:Driver: No matches for pattern '*_df' in recording_options['excludes'].\n"
     ]
    },
    {
     "name": "stdout",
     "output_type": "stream",
     "text": [
      "Installation CapEx:  284 M\n",
      "System CapEx:        383 M\n",
      "Turbine CapEx:       1479 M\n",
      "Soft CapEx:          636 M\n",
      "Total CapEx:        2933 M\n",
      "Annual OpEx Rate:        52510889 \n",
      "\n",
      "Installation Time: 24397 h\n",
      "\n",
      "N Substations:  2\n",
      "N cables:  4\n",
      "\n",
      "\n",
      "Cable specific costs\n",
      "Export cable installation CAPEX: 71.71 M USD\n",
      "\n",
      "\n",
      "FLORIS is the system model...\n",
      "Simulating wind farm output in FLORIS...\n",
      "\n",
      "HOPP Results\n",
      "Hybrid Annual Energy:  {\"pv\": 1851330.6142037676, \"wind\": 3755361454.261004, \"battery\": 75138.86048135585, \"hybrid\": 3757287923.7356806}\n",
      "Capacity factors:  {\"pv\": 27.474084457361847, \"wind\": 43.47811662661976, \"battery\": 0, \"hybrid\": 39.46690193295024}\n",
      "Real LCOE from HOPP:  {\"pv\": null, \"wind\": 0, \"battery\": null, \"hybrid\": null}\n",
      "Took 0.428 sec to run the create clusters\n",
      "Took 0.018 sec to run even_split_power function\n",
      "Took 0.37 sec to run the RUN function\n",
      "\n",
      "Electrolyzer Physics:\n",
      "H2 Produced Annually (tonnes):  67061.82816844688\n",
      "Max H2 hourly (tonnes):  16.845396595785363\n",
      "Max H2 daily (tonnes):  374.52842729971854\n",
      "Energy to electrolyzer (kWh):  3757044331.492995\n",
      "Energy per kg (kWh/kg):  53.072107593872985\n",
      "Max hourly based on est kg/kWh (kg):  16732.022781762502\n",
      "Max daily rough est (tonnes):  369.2200172815903\n",
      "Electrolyzer Life Average Capacity Factor:  0.4287818009808715\n",
      "\n",
      "Hydrogen Cost Results:\n",
      "Electrolyzer Total CAPEX $/kW:  1159.0975361199842\n",
      "Electrolyzer O&M $/kW:  28.384469868872504\n",
      "Electrolyzer O&M $/kg:  0.4173326026903101\n",
      "\n",
      "\n",
      "Desal Results\n",
      "Average feed_water_flowrat_m3perhr   0.0\n",
      "Average desal_capex_usd   0.0\n",
      "Average desal_opex_usd_per_year   0.0\n",
      "Average power_for_desal_kw   0.0\n",
      "Average fresh_water_capacity_m3_per_hour   0.0\n",
      "Average equipment_mass_kg   0.0\n",
      "Average equipment_footprint_m2   0.0\n",
      "\n",
      "\n",
      "\n",
      "Compressor Results:\n",
      "Total H2 Flowrate (kg/hr):  0.0\n",
      "Compressor_power (kW):  0.0\n",
      "Compressor capex [USD]:  0.0\n",
      "Compressor opex [USD/yr]:  0.0\n",
      "\n",
      "H2 Transport Pipe Results\n",
      "Grade none\n",
      "Outer diameter (mm) 0.0\n",
      "Inner Diameter (mm) 0.0\n",
      "Schedule none\n",
      "Thickness (mm) 0.0\n",
      "volume [m3] 0.0\n",
      "weight [kg] 0.0\n",
      "mat cost [$] 0.0\n",
      "labor cost [$] 0.0\n",
      "misc cost [$] 0.0\n",
      "ROW cost [$] 0.0\n",
      "total capital cost [$] 0.0\n",
      "annual operating cost [$] 0.0\n",
      "\n",
      "\n",
      "\n",
      "H2 Storage Results:\n",
      "H2 storage capex: $135,456,462\n",
      "H2 storage annual opex: $4,564,755/yr\n",
      "H2 storage capacity (tonnes):  7757.01222731938\n",
      "H2 storage cost $/kg of H2:  17.46245313449388\n",
      "\n",
      "Energy/Power Results:\n",
      "Supply (MWh):  3757287923.735689\n",
      "Desal (kW):  0\n",
      "Transport compressor (kW):  0.0\n",
      "Storage compression, refrigeration, etc (kW):  0.0\n",
      "\n",
      "Platform Results\n",
      "topmass_kg 0.00\n",
      "toparea_m2 0.00\n",
      "platform_mass_tonnes 0.00\n",
      "capex 0.00\n",
      "opex 0.00\n",
      "\n",
      "CAPEX Breakdown\n",
      "wind 2329.22  M\n",
      "wave 0.00  M\n",
      "solar 0.99  M\n",
      "battery 37.00  M\n",
      "platform 0.00  M\n",
      "electrical_export_system 463.97  M\n",
      "desal 0.00  M\n",
      "electrolyzer 1142.87  M\n",
      "h2_pipe_array 0.00  M\n",
      "h2_transport_compressor 0.00  M\n",
      "h2_transport_pipeline 0.00  M\n",
      "h2_storage 138.84  M\n",
      "\n",
      "Total system CAPEX:  $4.11  B\n",
      "\n",
      "Annual OPEX Breakdown\n",
      "wind_and_electrical 50.84  M\n",
      "platform 0.00  M\n",
      "wave 0.00  M\n",
      "solar 0.00  M\n",
      "battery 0.00  M\n",
      "desal 0.00  M\n",
      "electrolyzer 27.99  M\n",
      "h2_pipe_array 0.00  M\n",
      "h2_transport_compressor 0.00  M\n",
      "h2_transport_pipeline 0.00  M\n",
      "h2_storage 4.68  M\n",
      "\n",
      "Total Annual OPEX:  $83.51  M\n",
      "{'wind_and_electrical': 50842355.20761452, 'platform': 0.0, 'wave': 0.0, 'solar': array([2017.2]), 'battery': 9.25, 'desal': 0.0, 'electrolyzer': 27987087.29070829, 'h2_pipe_array': 0.0, 'h2_transport_compressor': 0.0, 'h2_transport_pipeline': 0.0, 'h2_storage': 4678874.262470229}\n",
      "hybrid plant capacity factor:  0.3945852314122999\n",
      "\n",
      "ProFAST LCOE:  147.75 $/MWh\n",
      "\n",
      "LCOH grid only:  6.91 $/kg\n",
      "ProFAST grid only NPV:  -0.00\n",
      "ProFAST grid only IRR:  0.11000\n",
      "ProFAST grid only LCO:  6.91 $/kg\n",
      "ProFAST grid only Profit Index:  3.03\n",
      "ProFAST grid only payback period:  8\n",
      "\n",
      "ProFAST LCOH:  7.97 $/kg\n",
      "ProFAST NPV:  -0.00\n",
      "ProFAST IRR:  0.11000\n",
      "ProFAST LCO:  7.97 $/kg\n",
      "ProFAST Profit Index:  2.61\n",
      "ProFAST payback period:  8\n",
      "Investor NPV:  2440.83 M USD\n",
      "Investor MIRR:  0.10284 \n",
      "Investor ROI:  0.59199 \n"
     ]
    }
   ],
   "source": [
    "# for analysis\n",
    "prob, config = run_greenheart(config, run_only=True)\n",
    "\n",
    "# for optimization\n",
    "# prob, config = run_greenheart(config, run_only=False)"
   ]
  },
  {
   "cell_type": "markdown",
   "metadata": {},
   "source": [
    "### Key Output Values"
   ]
  },
  {
   "cell_type": "code",
   "execution_count": 19,
   "metadata": {},
   "outputs": [
    {
     "name": "stdout",
     "output_type": "stream",
     "text": [
      "LCOE:  [147.74611336] [$/MWh]\n",
      "LCOH:  [7.97388197] [$/kg]\n"
     ]
    }
   ],
   "source": [
    "lcoe = prob.get_val(\"lcoe\", units=\"USD/(MW*h)\")\n",
    "lcoh = prob.get_val(\"lcoh\", units=\"USD/kg\")\n",
    "\n",
    "print(\"LCOE: \", lcoe, \"[$/MWh]\")\n",
    "print(\"LCOH: \", lcoh, \"[$/kg]\")"
   ]
  }
 ],
 "metadata": {
  "kernelspec": {
   "display_name": "gh",
   "language": "python",
   "name": "python3"
  },
  "language_info": {
   "codemirror_mode": {
    "name": "ipython",
    "version": 3
   },
   "file_extension": ".py",
   "mimetype": "text/x-python",
   "name": "python",
   "nbconvert_exporter": "python",
   "pygments_lexer": "ipython3",
   "version": "3.8.19"
  }
 },
 "nbformat": 4,
 "nbformat_minor": 2
}
