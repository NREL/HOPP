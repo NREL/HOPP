{
 "cells": [
  {
   "cell_type": "markdown",
   "metadata": {},
   "source": [
    "# Simple Wave and Wind Hybrid Plant Example\n",
    "---\n",
    "In this example, we will walk through the process of simulating a hybrid renewable energy system including both wave and wind energy."
   ]
  },
  {
   "cell_type": "markdown",
   "metadata": {},
   "source": [
    "### Import Required Modules\n",
    "We start by importing the necessary modules and setting up our working environment."
   ]
  },
  {
   "cell_type": "code",
   "execution_count": 1,
   "metadata": {},
   "outputs": [
    {
     "name": "stdout",
     "output_type": "stream",
     "text": [
      "/Users/kbrunik/github/forked/HOPP/examples/workshop/log/hybrid_systems_2023-09-28T09.17.44.626966.log\n"
     ]
    }
   ],
   "source": [
    "from hopp.simulation.technologies.sites import SiteInfo\n",
    "from hopp.simulation.technologies.sites import flatirons_site as sample_site\n",
    "from hopp.simulation.hybrid_simulation import HybridSimulation\n",
    "from hopp.utilities.keys import set_nrel_key_dot_env"
   ]
  },
  {
   "cell_type": "markdown",
   "metadata": {},
   "source": [
    "### Set API Key\n",
    "To access the Wind Toolkit (wind resource) and NSRDB (solar resource) data, we need to set an API key. You can obtain an API key from the [NREL developer website](https://developer.nrel.gov/signup/).\n",
    "\n",
    "To set up the `NREL_API_KEY` required for resource downloads, you can create an Environment Variable called `NREL_API_KEY`. Otherwise, you can keep the key in a new file called \".env\" in the root directory of this project.\n",
    "\n",
    "Create a file \".env\" that contains the single line:\n",
    "`NREL_API_KEY=key`"
   ]
  },
  {
   "cell_type": "code",
   "execution_count": 2,
   "metadata": {},
   "outputs": [],
   "source": [
    "# Set API key using the .env\n",
    "set_nrel_key_dot_env()"
   ]
  },
  {
   "cell_type": "markdown",
   "metadata": {},
   "source": [
    "#### (Optional)\n",
    "\n",
    "This step is if you do not set the API key using a \".env\" file."
   ]
  },
  {
   "cell_type": "code",
   "execution_count": null,
   "metadata": {},
   "outputs": [],
   "source": [
    "import os\n",
    "from hopp.utilities.keys import set_developer_nrel_gov_key\n",
    "\n",
    "# Set API key manually if not using the .env\n",
    "global NREL_API_KEY\n",
    "NREL_API_KEY = os.getenv(\"NREL_API_KEY\") # Set this key manually here if you are not setting it using the .env\n",
    "set_developer_nrel_gov_key(NREL_API_KEY)  "
   ]
  },
  {
   "cell_type": "markdown",
   "metadata": {},
   "source": [
    "### Retrieve Resource Data\n",
    "Obtain the resource data for your location. Set the `site_input_data` dictionary with the desired location, year, and resources used in hybrid plant.\n",
    "\n",
    "The Wind resource data will be downloaded using the API key. The Wave resource data must be pre-loaded in the format given in the `Wave_resource_timeseries.csv`."
   ]
  },
  {
   "cell_type": "code",
   "execution_count": 9,
   "metadata": {},
   "outputs": [],
   "source": [
    "from hopp import ROOT_DIR\n",
    "\n",
    "site_input_data = sample_site\n",
    "site_input_data['lat'] = 44.6899\n",
    "site_input_data['lon'] = -124.1346\n",
    "site_input_data['year'] = 2010\n",
    "\n",
    "DEFAULT_WAVE_RESOURCE_FILE = ROOT_DIR.parent / \"resource_files\" / \"wave\" / \"Wave_resource_timeseries.csv\"\n",
    "\n",
    "site = SiteInfo(\n",
    "    site_input_data,\n",
    "    wave_resource_file=DEFAULT_WAVE_RESOURCE_FILE,\n",
    "    solar=False, \n",
    "    wind=True, \n",
    "    wave=True\n",
    ")"
   ]
  },
  {
   "cell_type": "markdown",
   "metadata": {},
   "source": [
    "### Read in Wave Technology Configuration\n",
    "The Wave configuration is defined in a `yaml` file that has the wave power matrix and device information."
   ]
  },
  {
   "cell_type": "code",
   "execution_count": 15,
   "metadata": {},
   "outputs": [],
   "source": [
    "import yaml\n",
    "\n",
    "mhk_yaml_path = \"inputs/wave/wave_device.yaml\"\n",
    "with open(mhk_yaml_path, 'r') as stream:\n",
    "    mhk_config = yaml.safe_load(stream)\n",
    "\n"
   ]
  },
  {
   "cell_type": "markdown",
   "metadata": {},
   "source": [
    "### Setup Financial Model Paremeters\n",
    "\n",
    "The wave model does not have a default financial model so we have to set up the `CustomFinancialModel` from HOPP.\n",
    "\n",
    "The `default_fin_config` contains all of the necessary parameters for the financials to be calculated when running `HybridSimulation`."
   ]
  },
  {
   "cell_type": "code",
   "execution_count": 16,
   "metadata": {},
   "outputs": [],
   "source": [
    "from hopp.simulation.technologies.financial.custom_financial_model import CustomFinancialModel\n",
    "\n",
    "default_fin_config = {\n",
    "\t'batt_replacement_schedule_percent': [0],\n",
    "\t'batt_bank_replacement': [0],\n",
    "\t'batt_replacement_option': 0,\n",
    "\t'batt_computed_bank_capacity': 0,\n",
    "\t'batt_meter_position': 0,\n",
    "\t'om_fixed': [1],\n",
    "\t'om_production': [2],\n",
    "\t'om_capacity': (0,),\n",
    "\t'om_batt_fixed_cost': 0,\n",
    "\t'om_batt_variable_cost': [0],\n",
    "\t'om_batt_capacity_cost': 0,\n",
    "\t'om_batt_replacement_cost': 0,\n",
    "\t'om_replacement_cost_escal': 0,\n",
    "\t'system_use_lifetime_output': 0,\n",
    "\t'inflation_rate': 2.5,\n",
    "\t'real_discount_rate': 6.4,\n",
    "\t'cp_capacity_credit_percent': [0],\n",
    "\t'degradation': [0],\n",
    "\t'ppa_price_input': (0.01,),\n",
    "\t'ppa_escalation': 1\n",
    "\t}"
   ]
  },
  {
   "cell_type": "markdown",
   "metadata": {},
   "source": [
    "### Define Technologies Configuration\n",
    "Configure the characteristics of each technology in the system, including wind, wave, and grid interconnection.\n",
    "\n",
    "The technologies all have to use the same financial model so you can see that we call the `CustomFinancialModel` for each technology."
   ]
  },
  {
   "cell_type": "code",
   "execution_count": 17,
   "metadata": {},
   "outputs": [],
   "source": [
    "interconnection_size_kw = 15000\n",
    "wind_kw = 10000\n",
    "\n",
    "technologies = {'wind': {\n",
    "                    'num_turbines': 5,\n",
    "                    'turbine_rating_kw': wind_kw / 5,\n",
    "                    'fin_model': CustomFinancialModel(default_fin_config)\n",
    "                },\n",
    "                'wave':{\n",
    "                    'device_rating_kw': mhk_config['device_rating_kw'], \n",
    "                    'num_devices': 10, \n",
    "                    'wave_power_matrix': mhk_config['wave_power_matrix'],\n",
    "                    'fin_model': CustomFinancialModel(default_fin_config)\n",
    "                    },\n",
    "                'grid': {\n",
    "                    'interconnect_kw': interconnection_size_kw,\n",
    "                    'fin_model': CustomFinancialModel(default_fin_config)\n",
    "                }}"
   ]
  },
  {
   "cell_type": "markdown",
   "metadata": {},
   "source": [
    "### Create the Hybrid Simulation Model\n",
    "Create an instance of the `HybridSimulation` class by providing the technology configuration and site information."
   ]
  },
  {
   "cell_type": "code",
   "execution_count": 18,
   "metadata": {},
   "outputs": [],
   "source": [
    "hybrid_plant = HybridSimulation(technologies, site)"
   ]
  },
  {
   "cell_type": "markdown",
   "metadata": {},
   "source": [
    "### Add Wave Cost Model Inputs\n",
    "Add the inputs to run the wave technology cost model and instantiate `MHKCosts`."
   ]
  },
  {
   "cell_type": "code",
   "execution_count": 19,
   "metadata": {},
   "outputs": [],
   "source": [
    "cost_model_inputs = {\n",
    "\t'reference_model_num':3,\n",
    "\t'water_depth': 100,\n",
    "\t'distance_to_shore': 80,\n",
    "\t'number_rows': 10,\n",
    "\t'device_spacing':600,\n",
    "\t'row_spacing': 600,\n",
    "\t'cable_system_overbuild': 20\n",
    "\t}\n",
    "\n",
    "hybrid_plant.wave.create_mhk_cost_calculator(cost_model_inputs)"
   ]
  },
  {
   "cell_type": "markdown",
   "metadata": {},
   "source": [
    "### Run the Simulation\n",
    "Simulate the hybrid renewable energy system for a specified number of years (in this case, 25 years)."
   ]
  },
  {
   "cell_type": "code",
   "execution_count": 20,
   "metadata": {},
   "outputs": [],
   "source": [
    "hybrid_plant.simulate(project_life = 25)"
   ]
  },
  {
   "cell_type": "markdown",
   "metadata": {},
   "source": [
    "### Retrieve and Display Results\n",
    "Access the simulation results, including annual energies, capacity factors and net present values (NPVs), and print them to the console."
   ]
  },
  {
   "cell_type": "code",
   "execution_count": 21,
   "metadata": {},
   "outputs": [
    {
     "name": "stdout",
     "output_type": "stream",
     "text": [
      "Annual Energy Production\n",
      "{\"wind\": 32539658.835298087, \"wave\": 12132526.0, \"hybrid\": 44672184.83529807}\n",
      "Net Present Value\n",
      "{\"wind\": -14977200.729403041, \"wave\": -53731805.52113224, \"hybrid\": -68709006.25053555}\n",
      "Capacity Factors\n",
      "{\"wind\": 37.14572926403891, \"wave\": 48.426278059839696, \"hybrid\": 39.654467176635364}\n"
     ]
    }
   ],
   "source": [
    "aeps = hybrid_plant.annual_energies\n",
    "npvs = hybrid_plant.net_present_values\n",
    "cf = hybrid_plant.capacity_factors\n",
    "\n",
    "print(\"Annual Energy Production\")\n",
    "print(aeps)\n",
    "print(\"Net Present Value\")\n",
    "print(npvs)\n",
    "print(\"Capacity Factors\")\n",
    "print(cf)"
   ]
  }
 ],
 "metadata": {
  "interpreter": {
   "hash": "c4181dcdfcea4d6481020f2ce48a9cbe5cdfeb7af5e211e5dfd3ac596bfed8bd"
  },
  "kernelspec": {
   "display_name": "Python 3.8.17 ('storage')",
   "language": "python",
   "name": "python3"
  },
  "language_info": {
   "codemirror_mode": {
    "name": "ipython",
    "version": 3
   },
   "file_extension": ".py",
   "mimetype": "text/x-python",
   "name": "python",
   "nbconvert_exporter": "python",
   "pygments_lexer": "ipython3",
   "version": "3.8.17"
  },
  "orig_nbformat": 4
 },
 "nbformat": 4,
 "nbformat_minor": 2
}
