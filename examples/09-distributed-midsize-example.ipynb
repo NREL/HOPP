{
 "cells": [
  {
   "cell_type": "code",
   "execution_count": null,
   "metadata": {},
   "outputs": [],
   "source": [
    "import pandas as pd\n",
    "import numpy as np\n",
    "import os\n",
    "import matplotlib.pyplot as plt\n",
    "from floris import TimeSeries\n",
    "from floris.layout_visualization import plot_turbine_points\n",
    "from hopp import ROOT_DIR\n",
    "from hopp.utilities.keys import set_nrel_key_dot_env\n",
    "from hopp.simulation import HoppInterface\n",
    "from hopp.utilities.utilities import load_yaml\n",
    "from hopp.tools.dispatch.plot_tools import (\n",
    "    plot_battery_output, plot_battery_dispatch_error, plot_generation_profile\n",
    ")\n",
    "\n",
    "set_nrel_key_dot_env()\n",
    "\n",
    "example_dir = ROOT_DIR.parent / \"examples\"\n",
    "input_filepath = os.path.join(str(example_dir),\"inputs\",\"09-distributed-midsize.yaml\")\n",
    "hopp_config = load_yaml(input_filepath)"
   ]
  }
 ],
 "metadata": {
  "kernelspec": {
   "display_name": "Python 3.11.11 ('hopp_v3')",
   "language": "python",
   "name": "python3"
  },
  "language_info": {
   "name": "python",
   "version": "3.11.11"
  },
  "orig_nbformat": 4,
  "vscode": {
   "interpreter": {
    "hash": "83d224fd7f6681003180312ea6c8185416c7e1d1ec4b38d6b61f2dcc617ce854"
   }
  }
 },
 "nbformat": 4,
 "nbformat_minor": 2
}
