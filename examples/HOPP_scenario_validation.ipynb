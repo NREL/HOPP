{
 "cells": [
  {
   "cell_type": "markdown",
   "metadata": {},
   "source": [
    "# Testing using widgets in HOPP"
   ]
  },
  {
   "cell_type": "markdown",
   "metadata": {},
   "source": [
    "Attempting to use widgets to create a user-friendly way to test simulate_hybrid.py"
   ]
  },
  {
   "cell_type": "markdown",
   "metadata": {},
   "source": [
    "### Load necessary modules"
   ]
  },
  {
   "cell_type": "code",
   "execution_count": 33,
   "metadata": {},
   "outputs": [],
   "source": [
    "import json\n",
    "import ipywidgets as widgets\n",
    "from pathlib import Path\n",
    "\n",
    "from hybrid.sites import SiteInfo, flatirons_site\n",
    "from hybrid.hybrid_simulation import HybridSimulation\n",
    "from hybrid.log import hybrid_logger as logger\n",
    "from hybrid.keys import set_nrel_key_dot_env"
   ]
  },
  {
   "cell_type": "markdown",
   "metadata": {},
   "source": [
    "## Set API Key\n",
    "\n",
    "### This step gives you access to wind and solar resource data that will be fetched automatically for your desired location.\n",
    "\n",
    "#### N.B. If you need an NREL API key, please get one here: https://developer.nrel.gov/signup/"
   ]
  },
  {
   "cell_type": "code",
   "execution_count": 34,
   "metadata": {},
   "outputs": [],
   "source": [
    "set_nrel_key_dot_env()"
   ]
  },
  {
   "cell_type": "markdown",
   "metadata": {},
   "source": [
    "### Step 1: Path"
   ]
  },
  {
   "cell_type": "code",
   "execution_count": 35,
   "metadata": {},
   "outputs": [],
   "source": [
    "examples_dir = Path(\"__file__\").parent.absolute()"
   ]
  },
  {
   "cell_type": "markdown",
   "metadata": {},
   "source": [
    "### Set wind, solar, and interconnection capacities (in MW)\n",
    "\n",
    "Solar capacity"
   ]
  },
  {
   "cell_type": "code",
   "execution_count": 56,
   "metadata": {},
   "outputs": [
    {
     "data": {
      "application/vnd.jupyter.widget-view+json": {
       "model_id": "9d74e47113aa49aebaae2813a6829643",
       "version_major": 2,
       "version_minor": 0
      },
      "text/plain": [
       "IntSlider(value=50, description='Solar [MW]:', step=5)"
      ]
     },
     "metadata": {},
     "output_type": "display_data"
    },
    {
     "data": {
      "application/vnd.jupyter.widget-view+json": {
       "model_id": "b81c2fbfad6d4fc7aa378f27d167c917",
       "version_major": 2,
       "version_minor": 0
      },
      "text/plain": [
       "IntSlider(value=50, description='Wind [MW]:', step=5)"
      ]
     },
     "metadata": {},
     "output_type": "display_data"
    },
    {
     "data": {
      "application/vnd.jupyter.widget-view+json": {
       "model_id": "b6d41b0db16a4b7e8e49ab9d3a19ff0b",
       "version_major": 2,
       "version_minor": 0
      },
      "text/plain": [
       "IntSlider(value=50, description='Interconnection [MW]:', step=5)"
      ]
     },
     "metadata": {},
     "output_type": "display_data"
    }
   ],
   "source": [
    "solar = widgets.IntSlider(\n",
    "    min=0,\n",
    "    max=100,\n",
    "    step=5,\n",
    "    description='Solar [MW]:',\n",
    "    value=50\n",
    ")\n",
    "wind = widgets.IntSlider(\n",
    "    min=0,\n",
    "    max=100,\n",
    "    step=5,\n",
    "    description='Wind [MW]:',\n",
    "    value=50\n",
    ")\n",
    "interconnect = widgets.IntSlider(\n",
    "    min=0,\n",
    "    max=100,\n",
    "    step=5,\n",
    "    description='Interconnection [MW]:',\n",
    "    value=50\n",
    ")\n",
    "display(solar)\n",
    "display(wind)\n",
    "display(interconnect)"
   ]
  },
  {
   "cell_type": "code",
   "execution_count": 61,
   "metadata": {},
   "outputs": [],
   "source": [
    "solar_size_mw = solar.value\n",
    "wind_size_mw = wind.value\n",
    "interconnection_size_mw = interconnect.value\n",
    "\n",
    "technologies = {'pv': {\n",
    "                    'system_capacity_kw': solar_size_mw * 1000\n",
    "                },\n",
    "                'wind': {\n",
    "                    'num_turbines': 10,\n",
    "                    'turbine_rating_kw': 2000\n",
    "                }}"
   ]
  },
  {
   "cell_type": "markdown",
   "metadata": {},
   "source": [
    "### Get resources"
   ]
  },
  {
   "cell_type": "code",
   "execution_count": 62,
   "metadata": {},
   "outputs": [],
   "source": [
    "lat = flatirons_site['lat']\n",
    "lon = flatirons_site['lon']\n",
    "prices_file = examples_dir.parent / \"resource_files\" / \"grid\" / \"pricing-data-2015-IronMtn-002_factors.csv\"\n",
    "site = SiteInfo(flatirons_site, grid_resource_file=prices_file)"
   ]
  },
  {
   "cell_type": "markdown",
   "metadata": {},
   "source": [
    "### Create Model"
   ]
  },
  {
   "cell_type": "code",
   "execution_count": 63,
   "metadata": {},
   "outputs": [
    {
     "name": "stdout",
     "output_type": "stream",
     "text": [
      "Dispatch optimization not required...\n",
      "Wind Installed Cost: 72700000.0\n",
      "Solar Installed Cost: 48000000.0\n",
      "Hybrid Installed Cost: 120700000.0\n",
      "Wind NPV: 57563093.65754582\n",
      "Solar NPV: 42421773.18257575\n",
      "Hybrid NPV: 96962596.21262509\n",
      "Wind + Solar Expected NPV: 99984866.84012157\n",
      "Annual energy produced by:  {\"pv\": 104053614.17869328, \"wind\": 154488744.61423218, \"hybrid\": 255073908.81025952}\n",
      "Net present value of eache energy:  {\"pv\": 42421773.18257575, \"wind\": 57563093.65754582, \"hybrid\": 96962596.21262509}\n"
     ]
    }
   ],
   "source": [
    "hybrid_plant = HybridSimulation(technologies, site, interconnect_kw=interconnection_size_mw * 1000)\n",
    "\n",
    "hybrid_plant.pv.system_capacity_kw = solar_size_mw * 1000\n",
    "hybrid_plant.wind.system_capacity_by_num_turbines(wind_size_mw * 1000)\n",
    "hybrid_plant.ppa_price = 0.1\n",
    "hybrid_plant.pv.dc_degradation = [0] * 25\n",
    "hybrid_plant.simulate(25)\n",
    "\n",
    "# Save the outputs\n",
    "annual_energies = hybrid_plant.annual_energies\n",
    "wind_plus_solar_npv = hybrid_plant.net_present_values.wind + hybrid_plant.net_present_values.pv\n",
    "npvs = hybrid_plant.net_present_values\n",
    "\n",
    "wind_installed_cost = hybrid_plant.wind.total_installed_cost\n",
    "solar_installed_cost = hybrid_plant.pv.total_installed_cost\n",
    "hybrid_installed_cost = hybrid_plant.grid.total_installed_cost\n",
    "\n",
    "# Print Results\n",
    "print(\"Wind Installed Cost: {}\".format(wind_installed_cost))\n",
    "print(\"Solar Installed Cost: {}\".format(solar_installed_cost))\n",
    "print(\"Hybrid Installed Cost: {}\".format(hybrid_installed_cost))\n",
    "print(\"Wind NPV: {}\".format(hybrid_plant.net_present_values.wind))\n",
    "print(\"Solar NPV: {}\".format(hybrid_plant.net_present_values.pv))\n",
    "print(\"Hybrid NPV: {}\".format(hybrid_plant.net_present_values.hybrid))\n",
    "print(\"Wind + Solar Expected NPV: {}\".format(wind_plus_solar_npv))\n",
    "\n",
    "\n",
    "print(\"Annual energy produced by: \", annual_energies)\n",
    "print(\"Net present value of eache energy: \",npvs)"
   ]
  }
 ],
 "metadata": {
  "interpreter": {
   "hash": "9093bc525c4fc13ce8ee56364358394de176f6689e10061bbef4bde555f1814c"
  },
  "kernelspec": {
   "display_name": "Python 3.8.13 ('hopp')",
   "language": "python",
   "name": "python3"
  },
  "language_info": {
   "codemirror_mode": {
    "name": "ipython",
    "version": 3
   },
   "file_extension": ".py",
   "mimetype": "text/x-python",
   "name": "python",
   "nbconvert_exporter": "python",
   "pygments_lexer": "ipython3",
   "version": "3.8.13"
  },
  "orig_nbformat": 4
 },
 "nbformat": 4,
 "nbformat_minor": 2
}
