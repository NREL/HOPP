{
 "cells": [
  {
   "cell_type": "markdown",
   "metadata": {},
   "source": [
    "# Hybrid Plant with Wind, Solar, Battery, Hydrogen and Steel Example\n",
    "---\n",
    "In this example we will simulate a hybrid plant using the GreenHEART software. This software allows for the does co-design and simulation of an integrated renewable energy and steel production plant. \n",
    "\n",
    "This simulation starts with renewable energy generation using wind and solar PV technologies, which then can be stored in a battery or directly supplied to a PEM electrolyzer for hydrogen production. The produced hydrogen is then used as a feedstock in the steel model."
   ]
  },
  {
   "cell_type": "markdown",
   "metadata": {},
   "source": [
    "### Import Required Modules\n",
    "---\n",
    "Begin by importing the necessary modules for the GreenHEART simulation."
   ]
  },
  {
   "cell_type": "code",
   "execution_count": 1,
   "metadata": {},
   "outputs": [
    {
     "name": "stdout",
     "output_type": "stream",
     "text": [
      "/Users/kbrunik/github/HOPP/examples/log/hybrid_systems_2024-04-29T10.29.03.572285.log\n"
     ]
    }
   ],
   "source": [
    "from greenheart.simulation.greenheart_simulation import (\n",
    "    run_simulation,\n",
    "    GreenHeartSimulationConfig,\n",
    ")"
   ]
  },
  {
   "cell_type": "markdown",
   "metadata": {},
   "source": [
    "### Load Simulation Input Files\n",
    "---\n",
    "Input files are in a YAML file format. Four YAML files are required for land-based analysis:\n",
    "1. HOPP Configuration YAML\n",
    "2. GreenHEART Configuration YAML\n",
    "3. Wind Turbine Configuration YAML\n",
    "4. FLORIS Configuration YAML"
   ]
  },
  {
   "cell_type": "markdown",
   "metadata": {},
   "source": [
    "#### HOPP YAML Overview\n",
    "\n",
    "The HOPP YAML file includes information required for simulating the renewable energy generation at the plant. Such as:\n",
    "\n",
    "- **Analysis Location**: Specifies latitude, longitude, site boundaries, and resource files.\n",
    "- **Generation Technologies**: Encompasses details on wind, solar PV, and battery storage systems.\n",
    "- **General Generation Configuration Options**: Encompasses simulation options, battery dispatch strategies, and cost information."
   ]
  },
  {
   "cell_type": "code",
   "execution_count": 2,
   "metadata": {},
   "outputs": [],
   "source": [
    "filename_hopp_config = \"./inputs/09-inputs/plant/hopp_config_mn.yaml\""
   ]
  },
  {
   "cell_type": "markdown",
   "metadata": {},
   "source": [
    "#### GreenHEART YAML Overview\n",
    "\n",
    "The GreenHEART YAML file includes information required for simulating the renewable energy generation through the end product production (hydrogen, steel, ammonia). Such as:\n",
    "\n",
    "- **Plant Design Scenarios**: Specifies location and connection of individual components of plant.\n",
    "- **Financial Parameters**: General financial parameters needed for calculating the levelized cost of product and other financial metrics.\n",
    "- **Hydrogen Equipment Information**: Including electrolyzer specifications, compressor, pipeline, and H<sub>2</sub> storage information.\n",
    "- **Policy Options**: Describes options to include [IRA](https://www.whitehouse.gov/wp-content/uploads/2022/12/Inflation-Reduction-Act-Guidebook.pdf) tax incentives policy in GreenHEART simulation."
   ]
  },
  {
   "cell_type": "code",
   "execution_count": 3,
   "metadata": {},
   "outputs": [],
   "source": [
    "filename_greenheart_config = \"./inputs/09-inputs/plant/greenheart_config_onshore_mn.yaml\""
   ]
  },
  {
   "cell_type": "markdown",
   "metadata": {},
   "source": [
    "#### Wind Turbine and FLORIS YAML Overview\n",
    "\n",
    "The GreenHEART simulation runs a steady-state wake modeling tool ([FLORIS](https://www.nrel.gov/wind/floris.html)) to assess the wind farm's energy production. For accurate modeling within FLORIS, two configuration YAML files are required:\n",
    "\n",
    "- The **Wind Turbine YAML** file includes the description of the turbine including turbine rating rotor diameter, hub hight, and the power curve.\n",
    "- The **FLORIS YAML** file includes atmospheric conditions and wake models used in simulation."
   ]
  },
  {
   "cell_type": "code",
   "execution_count": 4,
   "metadata": {},
   "outputs": [],
   "source": [
    "turbine_model = \"lbw_6MW\"\n",
    "filename_turbine_config = \"./inputs/09-inputs/turbines/\" + turbine_model + \".yaml\"\n",
    "filename_floris_config = \"./inputs/09-inputs/floris/floris_input_lbw_6MW.yaml\""
   ]
  },
  {
   "cell_type": "markdown",
   "metadata": {},
   "source": [
    "### Create Full Configuration to Run GreenHEART Simulation\n",
    "---\n",
    "The class `GreenHeartSimulationConfig` reads in all the required YAML files described above, allows user to set additional settings while running the GreenHEART simulation, these include:\n",
    "- **verbose**: If set to `True` additional information about the simulation will be printed as it runs.\n",
    "- **show_plots**: If set to `True` the plots will pop up during the simulation.\n",
    "- **save_plots**: If set to `True` the plots will be saved in a figures folder.\n",
    "- **use_profast**: [ProFAST](https://github.com/NREL/ProFAST) is a financial analysis software that provides a quick and convenient in-depth financial analysis for production systems and services based on Generally Accepted Accounting Principles (GAAP) methodology.\n",
    "- **incentive_options**: Can select IRA incentives options which are located in the `GreenHEART YAML`.\n",
    "- **plant_design_scenario**: Can select the plant design scenario from options which are located in the `GreenHEART YAML`.\n",
    "- **output_level**: Determines what information is returned from the simulation."
   ]
  },
  {
   "cell_type": "code",
   "execution_count": 9,
   "metadata": {},
   "outputs": [
    {
     "name": "stdout",
     "output_type": "stream",
     "text": [
      "\n",
      "Turbine configuration:\n",
      "turbine_type :  lbw_6MW\n",
      "rotor_diameter :  196.0\n",
      "generator_efficiency :  1.0\n",
      "turbine_rating :  6\n",
      "hub_height :  115.0\n",
      "ref_tilt_cp_ct :  6.0\n",
      "pP :  1.88\n",
      "pT :  1.88\n",
      "TSR :  9.0\n",
      "ref_density_cp_ct :  1.225\n",
      "power_thrust_table :  {'power': [0, 0, 0, 0, 0, 0, 0.192891513, 0.327971809, 0.39467412, 0.427218981, 0.441644409, 0.449983583, 0.452089484, 0.45277266, 0.452479626, 0.447816937, 0.437905177, 0.419995456, 0.392212744, 0.35626576, 0.317431919, 0.280508125, 0.244556295, 0.214024446, 0.188370619, 0.166658268, 0.148158593, 0.132298706, 0.118624063, 0.106770898, 0.096445757, 0.087410138, 0.079468855, 0.072461124, 0.0662537, 0.06073552, 0.055813517, 0.051409303, 0.047456543, 0.043898842, 0.040688054, 0.037782903, 0.035147871, 0.032752279, 0.030569537, 0.01371673, 0.012841467, 0.012039115, 0.011302237, 0.010624289, 0.009999496, 0.0, 0.0], 'thrust': [0.0, 0.0, 0.0, 0.0, 0.0, 0.0, 0.2701938462552998, 0.49876088677031816, 0.6410583756749411, 0.7304171026328261, 0.7820140738475616, 0.8219695127339289, 0.8352112145765765, 0.8400940247937402, 0.8379537129170351, 0.8101778683666324, 0.7672683998396476, 0.7083562153936742, 0.6350905785639259, 0.5551074611981718, 0.4788235519553873, 0.41244475217617255, 0.35190962095427364, 0.3029658154904963, 0.2632886841215642, 0.23060389109382756, 0.20333704601408872, 0.18035220902161636, 0.16080492837083768, 0.14405295244038488, 0.12959884155843146, 0.11705148949914825, 0.10609947180098464, 0.09649207076054334, 0.08802550386379156, 0.080532705961645, 0.07387566569120284, 0.0679395700022922, 0.0626283035300828, 0.05786092523660555, 0.05356890955590444, 0.04969394382759819, 0.04618618064324506, 0.04300281785004922, 0.040106954468623494, 0.017894348350362906, 0.016747646863604262, 0.015697057336370227, 0.014732694286609812, 0.013845872021549986, 0.013028935873409437, 0.0, 0.0], 'wind_speed': [0.0, 0.5, 1, 1.5, 2, 2.5, 3, 3.5, 4, 4.5, 5, 5.5, 6, 6.5, 7, 7.5, 8, 8.5, 9, 9.5, 10, 10.5, 11, 11.5, 12, 12.5, 13, 13.5, 14, 14.5, 15, 15.5, 16, 16.5, 17, 17.5, 18, 18.5, 19, 19.5, 20, 20.5, 21, 21.5, 22, 22.5, 23, 23.5, 24, 24.5, 25, 25.5, 50.0]}\n",
      "\n",
      "\n",
      "Wind Capacity  1296.0 MW\n",
      "Solar PV Capacity  100.0 MW\n",
      "Total hybrid plant rating calculated: 1396.0 MW\n"
     ]
    }
   ],
   "source": [
    "config = GreenHeartSimulationConfig(\n",
    "    filename_hopp_config,\n",
    "    filename_greenheart_config,\n",
    "    filename_turbine_config,\n",
    "    filename_floris_config,\n",
    "    verbose=True,\n",
    "    show_plots=False,\n",
    "    save_plots=False,\n",
    "    use_profast=True,\n",
    "    post_processing=True,\n",
    "    incentive_option=1,\n",
    "    plant_design_scenario=9,\n",
    "    output_level=7,\n",
    ")"
   ]
  },
  {
   "cell_type": "markdown",
   "metadata": {},
   "source": [
    "### Run the GreenHEART Simulation\n",
    "---\n",
    "The simulation runs a techno-economic analysis of a given plant configuration. Data and figures are output to a seperate folder."
   ]
  },
  {
   "cell_type": "code",
   "execution_count": 10,
   "metadata": {},
   "outputs": [
    {
     "name": "stdout",
     "output_type": "stream",
     "text": [
      "FLORIS is the system model...\n",
      "Simulating wind farm output in FLORIS...\n",
      "\n",
      "HOPP Results\n",
      "Hybrid Annual Energy:  {\"pv\": 145446392.30989665, \"wind\": 3919162140.838302, \"battery\": 6746.053954919761, \"hybrid\": 4063634075.7827663}\n",
      "Capacity factors:  {\"pv\": 21.584510274299735, \"wind\": 34.52106006573001, \"battery\": 0, \"hybrid\": 31.50179294905199}\n",
      "Real LCOE from HOPP:  {\"pv\": null, \"wind\": 0, \"battery\": null, \"hybrid\": null}\n",
      "Took 0.53 sec to run the create clusters\n",
      "Took 0.019 sec to run even_split_power function\n",
      "Took 0.429 sec to run the RUN function\n",
      "\n",
      "Electrolyzer Physics:\n",
      "H2 Produced Annually (tonnes):  72333.20073625928\n",
      "Max H2 hourly (tonnes):  21.22819493972688\n",
      "Max H2 daily (tonnes):  501.71705441147833\n",
      "Energy to electrolyzer (kWh):  4063414242.426622\n",
      "Energy per kg (kWh/kg):  53.248910243995844\n",
      "Max hourly based on est kg/kWh (kg):  21241.530855154735\n",
      "Max daily rough est (tonnes):  504.3714914187101\n",
      "Electrolyzer Life Average Capacity Factor:  0.38877188011377245\n",
      "\n",
      "Hydrogen Cost Results:\n",
      "Electrolyzer Total CAPEX $/kW:  1159.097536119984\n",
      "Electrolyzer O&M $/kW:  28.384469868872497\n",
      "Electrolyzer O&M $/kg:  0.45519878441362704\n",
      "\n",
      "\n",
      "Desal Results\n",
      "Average feed_water_flowrat_m3perhr   0.0\n",
      "Average desal_capex_usd   0.0\n",
      "Average desal_opex_usd_per_year   0.0\n",
      "Average power_for_desal_kw   0.0\n",
      "Average fresh_water_capacity_m3_per_hour   0.0\n",
      "Average equipment_mass_kg   0.0\n",
      "Average equipment_footprint_m2   0.0\n",
      "\n",
      "\n",
      "\n",
      "Compressor Results:\n",
      "Total H2 Flowrate (kg/hr):  0.0\n",
      "Compressor_power (kW):  0.0\n",
      "Compressor capex [USD]:  0.0\n",
      "Compressor opex [USD/yr]:  0.0\n",
      "\n",
      "H2 Storage Results:\n",
      "H2 storage capex: $186,577,644\n",
      "H2 storage annual opex: $6,203,647/yr\n",
      "H2 storage capacity (tonnes):  4367.575\n",
      "H2 storage cost $/kg of H2:  42.718818575139615\n",
      "\n",
      "Energy/Power Results:\n",
      "Supply (MWh):  4063528793.150336\n",
      "Desal (kW):  0\n",
      "Transport compressor (kW):  0.0\n",
      "Storage compression, refrigeration, etc (kW):  0.0\n",
      "\n",
      "Platform Results\n",
      "topmass_kg 0.00\n",
      "toparea_m2 0.00\n",
      "platform_mass_tonnes 0.00\n",
      "capex 0.00\n",
      "opex 0.00\n",
      "\n",
      "CAPEX Breakdown\n",
      "wind 1423.01  M\n",
      "wave 0.00  M\n",
      "solar 99.10  M\n",
      "battery 37.00  M\n",
      "platform 0.00  M\n",
      "electrical_export_system 0.00  M\n",
      "desal 0.00  M\n",
      "electrolyzer 1344.55  M\n",
      "h2_pipe_array 0.00  M\n",
      "h2_transport_compressor 0.00  M\n",
      "h2_transport_pipeline 0.00  M\n",
      "h2_storage 196.02  M\n",
      "\n",
      "Total system CAPEX:  $3.10  B\n",
      "\n",
      "Annual OPEX Breakdown\n",
      "wind_and_electrical 41.28  M\n",
      "platform 0.00  M\n",
      "wave 0.00  M\n",
      "solar 0.00  M\n",
      "battery 0.00  M\n",
      "desal 0.00  M\n",
      "electrolyzer 32.93  M\n",
      "h2_pipe_array 0.00  M\n",
      "h2_transport_compressor 0.00  M\n",
      "h2_transport_pipeline 0.00  M\n",
      "h2_storage 6.52  M\n",
      "\n",
      "Total Annual OPEX:  $80.72  M\n",
      "{'wind_and_electrical': 41275125.281676605, 'platform': 0.0, 'wave': 0.0, 'solar': array([2001.]), 'battery': 42.888, 'desal': 0.0, 'electrolyzer': 32925985.047892097, 'h2_pipe_array': 0.0, 'h2_transport_compressor': 0.0, 'h2_transport_pipeline': 0.0, 'h2_storage': 6517706.148364854}\n",
      "hybrid plant capacity factor:  0.31007563496190266\n",
      "\n",
      "ProFAST LCOE:  70.02 $/MWh\n",
      "\n",
      "LCOH grid only:  7.09 $/kg\n",
      "ProFAST grid only NPV:  -0.00\n",
      "ProFAST grid only IRR:  0.09480\n",
      "ProFAST grid only LCO:  7.09 $/kg\n",
      "ProFAST grid only Profit Index:  2.68\n",
      "ProFAST grid only payback period:  10\n",
      "\n",
      "ProFAST LCOH:  5.56 $/kg\n",
      "ProFAST NPV:  0.00\n",
      "ProFAST IRR:  0.09480\n",
      "ProFAST LCO:  5.56 $/kg\n",
      "ProFAST Profit Index:  2.12\n",
      "ProFAST payback period:  9\n",
      "Investor NPV:  1276.59 M USD\n",
      "Investor MIRR:  0.08745 \n",
      "Investor ROI:  0.39421 \n",
      "Running steel\n",
      "\n",
      "LCOE:  70.02 $/MWh\n",
      "LCOH:  5.56 $/kg\n",
      "hybrid electricity plant capacity factor:  0.31\n",
      "electrolyzer capacity factor:  0.4\n",
      "Electorlyzer CAPEX installed $/kW:  1159.1\n"
     ]
    }
   ],
   "source": [
    "lcoe, lcoh, steel_finance, _ = run_simulation(config)"
   ]
  },
  {
   "cell_type": "markdown",
   "metadata": {},
   "source": [
    "### Example Outputs\n",
    "---\n",
    "Average wind-speed plot at given simulation location.\n",
    "\n",
    "\n",
    "![Wind Speed](output/figures/average_wind_speed_47.523300_-92.536600.png)\n",
    "\n",
    "This is the plant layout that was generated from the simulation. It includes a full plant overview including generation technology and a zoomed in visual of the non-wind plant components.\n",
    "\n",
    "\n",
    "![Plant Layout](output/figures/layout/plant_layout_9.png)\n",
    "\n",
    "Levelized cost of product. This is the levelized cost of hydrogen. It shows the distribution of cash flow on a per commodity basis, for this example all values are in $/kg-H<sub>2</sub> and there's an overall breakeven price of $5.56. Incoming cash flow is shown in blue and outgoing cash flow is in orange.\n",
    "\n",
    "\n",
    "![LCOH](output/figures/lcoh_breakdown/lcoh_9.png)\n",
    "\n",
    "This is the levelized cost of steel.\n",
    "\n",
    "\n",
    "![LCOS](output/figures/lcos_breakdown/lcos_9.png)\n",
    "\n",
    "The annual cash flows are output from the financial analyses. This is figure is the cash flows for producing hydrogen.\n",
    "\n",
    "\n",
    "![Cash Flows](output/figures/annual_cash_flow/cash_flow_9.png)\n",
    "\n",
    "This figure shows a breakdown of contributing costs in each year in the analysis.\n",
    "\n",
    "\n",
    "![Cost breakdown](output/figures/wind_only/annual_cash_flow_wind_only_9.png)"
   ]
  }
 ],
 "metadata": {
  "kernelspec": {
   "display_name": "gh",
   "language": "python",
   "name": "python3"
  },
  "language_info": {
   "codemirror_mode": {
    "name": "ipython",
    "version": 3
   },
   "file_extension": ".py",
   "mimetype": "text/x-python",
   "name": "python",
   "nbconvert_exporter": "python",
   "pygments_lexer": "ipython3",
   "version": "3.8.19"
  }
 },
 "nbformat": 4,
 "nbformat_minor": 2
}
